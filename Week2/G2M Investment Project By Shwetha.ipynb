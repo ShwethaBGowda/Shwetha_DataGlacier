{
 "cells": [
  {
   "cell_type": "code",
   "execution_count": 1,
   "id": "7880d45a",
   "metadata": {},
   "outputs": [],
   "source": [
    "\n",
    "import pandas as pd\n",
    "import numpy as np\n",
    "import matplotlib.pyplot as plt\n",
    "import scikitplot as skplt\n",
    "import seaborn as sns\n",
    "import xlrd\n"
   ]
  },
  {
   "cell_type": "code",
   "execution_count": 2,
   "id": "bef765a5",
   "metadata": {},
   "outputs": [],
   "source": [
    "#importing all the datasets given\n",
    "\n",
    "cab_df = pd.read_csv(\"C:\\Shwetha\\Data_Glacier_Internship\\DataSets-main\\Cab_Data.csv\")\n",
    "city_df = pd.read_csv('C:\\Shwetha\\Data_Glacier_Internship\\DataSets-main\\City.csv')\n",
    "transid_df = pd.read_csv('C:\\Shwetha\\Data_Glacier_Internship\\DataSets-main\\Transaction_ID.csv')\n",
    "custid_df = pd.read_csv('C:\\Shwetha\\Data_Glacier_Internship\\DataSets-main\\Customer_ID.csv')"
   ]
  },
  {
   "cell_type": "code",
   "execution_count": 3,
   "id": "6a402e0a",
   "metadata": {},
   "outputs": [
    {
     "data": {
      "text/plain": [
       "(359392, 7)"
      ]
     },
     "execution_count": 3,
     "metadata": {},
     "output_type": "execute_result"
    }
   ],
   "source": [
    "#Check the shape of each dataset\n",
    "cab_df.shape"
   ]
  },
  {
   "cell_type": "code",
   "execution_count": 4,
   "id": "6a103bb8",
   "metadata": {},
   "outputs": [
    {
     "data": {
      "text/plain": [
       "(20, 3)"
      ]
     },
     "execution_count": 4,
     "metadata": {},
     "output_type": "execute_result"
    }
   ],
   "source": [
    "city_df.shape"
   ]
  },
  {
   "cell_type": "code",
   "execution_count": 5,
   "id": "67b4b1bd",
   "metadata": {},
   "outputs": [
    {
     "data": {
      "text/plain": [
       "(440098, 3)"
      ]
     },
     "execution_count": 5,
     "metadata": {},
     "output_type": "execute_result"
    }
   ],
   "source": [
    "transid_df.shape"
   ]
  },
  {
   "cell_type": "code",
   "execution_count": 6,
   "id": "e5e7720a",
   "metadata": {},
   "outputs": [
    {
     "data": {
      "text/plain": [
       "(49171, 4)"
      ]
     },
     "execution_count": 6,
     "metadata": {},
     "output_type": "execute_result"
    }
   ],
   "source": [
    "custid_df.shape"
   ]
  },
  {
   "cell_type": "code",
   "execution_count": 7,
   "id": "5e0400a5",
   "metadata": {},
   "outputs": [
    {
     "name": "stdout",
     "output_type": "stream",
     "text": [
      "<class 'pandas.core.frame.DataFrame'>\n",
      "RangeIndex: 359392 entries, 0 to 359391\n",
      "Data columns (total 7 columns):\n",
      " #   Column          Non-Null Count   Dtype  \n",
      "---  ------          --------------   -----  \n",
      " 0   Transaction ID  359392 non-null  int64  \n",
      " 1   Date of Travel  359392 non-null  int64  \n",
      " 2   Company         359392 non-null  object \n",
      " 3   City            359392 non-null  object \n",
      " 4   KM Travelled    359392 non-null  float64\n",
      " 5   Price Charged   359392 non-null  float64\n",
      " 6   Cost of Trip    359392 non-null  float64\n",
      "dtypes: float64(3), int64(2), object(2)\n",
      "memory usage: 19.2+ MB\n"
     ]
    }
   ],
   "source": [
    "#check details of each dataset and review\n",
    "cab_df.info()"
   ]
  },
  {
   "cell_type": "code",
   "execution_count": 8,
   "id": "1a35e977",
   "metadata": {},
   "outputs": [
    {
     "data": {
      "text/html": [
       "<div>\n",
       "<style scoped>\n",
       "    .dataframe tbody tr th:only-of-type {\n",
       "        vertical-align: middle;\n",
       "    }\n",
       "\n",
       "    .dataframe tbody tr th {\n",
       "        vertical-align: top;\n",
       "    }\n",
       "\n",
       "    .dataframe thead th {\n",
       "        text-align: right;\n",
       "    }\n",
       "</style>\n",
       "<table border=\"1\" class=\"dataframe\">\n",
       "  <thead>\n",
       "    <tr style=\"text-align: right;\">\n",
       "      <th></th>\n",
       "      <th>Transaction ID</th>\n",
       "      <th>Date of Travel</th>\n",
       "      <th>Company</th>\n",
       "      <th>City</th>\n",
       "      <th>KM Travelled</th>\n",
       "      <th>Price Charged</th>\n",
       "      <th>Cost of Trip</th>\n",
       "    </tr>\n",
       "  </thead>\n",
       "  <tbody>\n",
       "    <tr>\n",
       "      <th>0</th>\n",
       "      <td>10000011</td>\n",
       "      <td>42377</td>\n",
       "      <td>Pink Cab</td>\n",
       "      <td>ATLANTA GA</td>\n",
       "      <td>30.45</td>\n",
       "      <td>370.95</td>\n",
       "      <td>313.635</td>\n",
       "    </tr>\n",
       "    <tr>\n",
       "      <th>1</th>\n",
       "      <td>10000012</td>\n",
       "      <td>42375</td>\n",
       "      <td>Pink Cab</td>\n",
       "      <td>ATLANTA GA</td>\n",
       "      <td>28.62</td>\n",
       "      <td>358.52</td>\n",
       "      <td>334.854</td>\n",
       "    </tr>\n",
       "    <tr>\n",
       "      <th>2</th>\n",
       "      <td>10000013</td>\n",
       "      <td>42371</td>\n",
       "      <td>Pink Cab</td>\n",
       "      <td>ATLANTA GA</td>\n",
       "      <td>9.04</td>\n",
       "      <td>125.20</td>\n",
       "      <td>97.632</td>\n",
       "    </tr>\n",
       "    <tr>\n",
       "      <th>3</th>\n",
       "      <td>10000014</td>\n",
       "      <td>42376</td>\n",
       "      <td>Pink Cab</td>\n",
       "      <td>ATLANTA GA</td>\n",
       "      <td>33.17</td>\n",
       "      <td>377.40</td>\n",
       "      <td>351.602</td>\n",
       "    </tr>\n",
       "    <tr>\n",
       "      <th>4</th>\n",
       "      <td>10000015</td>\n",
       "      <td>42372</td>\n",
       "      <td>Pink Cab</td>\n",
       "      <td>ATLANTA GA</td>\n",
       "      <td>8.73</td>\n",
       "      <td>114.62</td>\n",
       "      <td>97.776</td>\n",
       "    </tr>\n",
       "    <tr>\n",
       "      <th>5</th>\n",
       "      <td>10000016</td>\n",
       "      <td>42376</td>\n",
       "      <td>Pink Cab</td>\n",
       "      <td>ATLANTA GA</td>\n",
       "      <td>6.06</td>\n",
       "      <td>72.43</td>\n",
       "      <td>63.024</td>\n",
       "    </tr>\n",
       "    <tr>\n",
       "      <th>6</th>\n",
       "      <td>10000017</td>\n",
       "      <td>42372</td>\n",
       "      <td>Pink Cab</td>\n",
       "      <td>AUSTIN TX</td>\n",
       "      <td>44.00</td>\n",
       "      <td>576.15</td>\n",
       "      <td>475.200</td>\n",
       "    </tr>\n",
       "    <tr>\n",
       "      <th>7</th>\n",
       "      <td>10000018</td>\n",
       "      <td>42376</td>\n",
       "      <td>Pink Cab</td>\n",
       "      <td>AUSTIN TX</td>\n",
       "      <td>35.65</td>\n",
       "      <td>466.10</td>\n",
       "      <td>377.890</td>\n",
       "    </tr>\n",
       "    <tr>\n",
       "      <th>8</th>\n",
       "      <td>10000019</td>\n",
       "      <td>42381</td>\n",
       "      <td>Pink Cab</td>\n",
       "      <td>BOSTON MA</td>\n",
       "      <td>14.40</td>\n",
       "      <td>191.61</td>\n",
       "      <td>146.880</td>\n",
       "    </tr>\n",
       "    <tr>\n",
       "      <th>9</th>\n",
       "      <td>10000020</td>\n",
       "      <td>42375</td>\n",
       "      <td>Pink Cab</td>\n",
       "      <td>BOSTON MA</td>\n",
       "      <td>10.89</td>\n",
       "      <td>156.98</td>\n",
       "      <td>113.256</td>\n",
       "    </tr>\n",
       "  </tbody>\n",
       "</table>\n",
       "</div>"
      ],
      "text/plain": [
       "   Transaction ID  Date of Travel   Company        City  KM Travelled  \\\n",
       "0        10000011           42377  Pink Cab  ATLANTA GA         30.45   \n",
       "1        10000012           42375  Pink Cab  ATLANTA GA         28.62   \n",
       "2        10000013           42371  Pink Cab  ATLANTA GA          9.04   \n",
       "3        10000014           42376  Pink Cab  ATLANTA GA         33.17   \n",
       "4        10000015           42372  Pink Cab  ATLANTA GA          8.73   \n",
       "5        10000016           42376  Pink Cab  ATLANTA GA          6.06   \n",
       "6        10000017           42372  Pink Cab   AUSTIN TX         44.00   \n",
       "7        10000018           42376  Pink Cab   AUSTIN TX         35.65   \n",
       "8        10000019           42381  Pink Cab   BOSTON MA         14.40   \n",
       "9        10000020           42375  Pink Cab   BOSTON MA         10.89   \n",
       "\n",
       "   Price Charged  Cost of Trip  \n",
       "0         370.95       313.635  \n",
       "1         358.52       334.854  \n",
       "2         125.20        97.632  \n",
       "3         377.40       351.602  \n",
       "4         114.62        97.776  \n",
       "5          72.43        63.024  \n",
       "6         576.15       475.200  \n",
       "7         466.10       377.890  \n",
       "8         191.61       146.880  \n",
       "9         156.98       113.256  "
      ]
     },
     "execution_count": 8,
     "metadata": {},
     "output_type": "execute_result"
    }
   ],
   "source": [
    "cab_df.head(10)"
   ]
  },
  {
   "cell_type": "code",
   "execution_count": 9,
   "id": "045956d7",
   "metadata": {},
   "outputs": [
    {
     "name": "stdout",
     "output_type": "stream",
     "text": [
      "<class 'pandas.core.frame.DataFrame'>\n",
      "RangeIndex: 20 entries, 0 to 19\n",
      "Data columns (total 3 columns):\n",
      " #   Column      Non-Null Count  Dtype \n",
      "---  ------      --------------  ----- \n",
      " 0   City        20 non-null     object\n",
      " 1   Population  20 non-null     object\n",
      " 2   Users       20 non-null     object\n",
      "dtypes: object(3)\n",
      "memory usage: 608.0+ bytes\n"
     ]
    }
   ],
   "source": [
    "city_df.info()"
   ]
  },
  {
   "cell_type": "code",
   "execution_count": 10,
   "id": "71801370",
   "metadata": {},
   "outputs": [
    {
     "data": {
      "text/html": [
       "<div>\n",
       "<style scoped>\n",
       "    .dataframe tbody tr th:only-of-type {\n",
       "        vertical-align: middle;\n",
       "    }\n",
       "\n",
       "    .dataframe tbody tr th {\n",
       "        vertical-align: top;\n",
       "    }\n",
       "\n",
       "    .dataframe thead th {\n",
       "        text-align: right;\n",
       "    }\n",
       "</style>\n",
       "<table border=\"1\" class=\"dataframe\">\n",
       "  <thead>\n",
       "    <tr style=\"text-align: right;\">\n",
       "      <th></th>\n",
       "      <th>City</th>\n",
       "      <th>Population</th>\n",
       "      <th>Users</th>\n",
       "    </tr>\n",
       "  </thead>\n",
       "  <tbody>\n",
       "    <tr>\n",
       "      <th>0</th>\n",
       "      <td>NEW YORK NY</td>\n",
       "      <td>8,405,837</td>\n",
       "      <td>302,149</td>\n",
       "    </tr>\n",
       "    <tr>\n",
       "      <th>1</th>\n",
       "      <td>CHICAGO IL</td>\n",
       "      <td>1,955,130</td>\n",
       "      <td>164,468</td>\n",
       "    </tr>\n",
       "    <tr>\n",
       "      <th>2</th>\n",
       "      <td>LOS ANGELES CA</td>\n",
       "      <td>1,595,037</td>\n",
       "      <td>144,132</td>\n",
       "    </tr>\n",
       "    <tr>\n",
       "      <th>3</th>\n",
       "      <td>MIAMI FL</td>\n",
       "      <td>1,339,155</td>\n",
       "      <td>17,675</td>\n",
       "    </tr>\n",
       "    <tr>\n",
       "      <th>4</th>\n",
       "      <td>SILICON VALLEY</td>\n",
       "      <td>1,177,609</td>\n",
       "      <td>27,247</td>\n",
       "    </tr>\n",
       "  </tbody>\n",
       "</table>\n",
       "</div>"
      ],
      "text/plain": [
       "             City   Population      Users\n",
       "0     NEW YORK NY   8,405,837    302,149 \n",
       "1      CHICAGO IL   1,955,130    164,468 \n",
       "2  LOS ANGELES CA   1,595,037    144,132 \n",
       "3        MIAMI FL   1,339,155     17,675 \n",
       "4  SILICON VALLEY   1,177,609     27,247 "
      ]
     },
     "execution_count": 10,
     "metadata": {},
     "output_type": "execute_result"
    }
   ],
   "source": [
    "city_df.head()"
   ]
  },
  {
   "cell_type": "code",
   "execution_count": 11,
   "id": "aff4cd1e",
   "metadata": {},
   "outputs": [
    {
     "name": "stdout",
     "output_type": "stream",
     "text": [
      "<class 'pandas.core.frame.DataFrame'>\n",
      "RangeIndex: 49171 entries, 0 to 49170\n",
      "Data columns (total 4 columns):\n",
      " #   Column              Non-Null Count  Dtype \n",
      "---  ------              --------------  ----- \n",
      " 0   Customer ID         49171 non-null  int64 \n",
      " 1   Gender              49171 non-null  object\n",
      " 2   Age                 49171 non-null  int64 \n",
      " 3   Income (USD/Month)  49171 non-null  int64 \n",
      "dtypes: int64(3), object(1)\n",
      "memory usage: 1.5+ MB\n"
     ]
    }
   ],
   "source": [
    "custid_df.info()"
   ]
  },
  {
   "cell_type": "code",
   "execution_count": 12,
   "id": "bc42429c",
   "metadata": {},
   "outputs": [
    {
     "data": {
      "text/html": [
       "<div>\n",
       "<style scoped>\n",
       "    .dataframe tbody tr th:only-of-type {\n",
       "        vertical-align: middle;\n",
       "    }\n",
       "\n",
       "    .dataframe tbody tr th {\n",
       "        vertical-align: top;\n",
       "    }\n",
       "\n",
       "    .dataframe thead th {\n",
       "        text-align: right;\n",
       "    }\n",
       "</style>\n",
       "<table border=\"1\" class=\"dataframe\">\n",
       "  <thead>\n",
       "    <tr style=\"text-align: right;\">\n",
       "      <th></th>\n",
       "      <th>Customer ID</th>\n",
       "      <th>Gender</th>\n",
       "      <th>Age</th>\n",
       "      <th>Income (USD/Month)</th>\n",
       "    </tr>\n",
       "  </thead>\n",
       "  <tbody>\n",
       "    <tr>\n",
       "      <th>0</th>\n",
       "      <td>29290</td>\n",
       "      <td>Male</td>\n",
       "      <td>28</td>\n",
       "      <td>10813</td>\n",
       "    </tr>\n",
       "    <tr>\n",
       "      <th>1</th>\n",
       "      <td>27703</td>\n",
       "      <td>Male</td>\n",
       "      <td>27</td>\n",
       "      <td>9237</td>\n",
       "    </tr>\n",
       "    <tr>\n",
       "      <th>2</th>\n",
       "      <td>28712</td>\n",
       "      <td>Male</td>\n",
       "      <td>53</td>\n",
       "      <td>11242</td>\n",
       "    </tr>\n",
       "    <tr>\n",
       "      <th>3</th>\n",
       "      <td>28020</td>\n",
       "      <td>Male</td>\n",
       "      <td>23</td>\n",
       "      <td>23327</td>\n",
       "    </tr>\n",
       "    <tr>\n",
       "      <th>4</th>\n",
       "      <td>27182</td>\n",
       "      <td>Male</td>\n",
       "      <td>33</td>\n",
       "      <td>8536</td>\n",
       "    </tr>\n",
       "  </tbody>\n",
       "</table>\n",
       "</div>"
      ],
      "text/plain": [
       "   Customer ID Gender  Age  Income (USD/Month)\n",
       "0        29290   Male   28               10813\n",
       "1        27703   Male   27                9237\n",
       "2        28712   Male   53               11242\n",
       "3        28020   Male   23               23327\n",
       "4        27182   Male   33                8536"
      ]
     },
     "execution_count": 12,
     "metadata": {},
     "output_type": "execute_result"
    }
   ],
   "source": [
    "custid_df.head()"
   ]
  },
  {
   "cell_type": "code",
   "execution_count": 13,
   "id": "8071e428",
   "metadata": {},
   "outputs": [
    {
     "name": "stdout",
     "output_type": "stream",
     "text": [
      "<class 'pandas.core.frame.DataFrame'>\n",
      "RangeIndex: 440098 entries, 0 to 440097\n",
      "Data columns (total 3 columns):\n",
      " #   Column          Non-Null Count   Dtype \n",
      "---  ------          --------------   ----- \n",
      " 0   Transaction ID  440098 non-null  int64 \n",
      " 1   Customer ID     440098 non-null  int64 \n",
      " 2   Payment_Mode    440098 non-null  object\n",
      "dtypes: int64(2), object(1)\n",
      "memory usage: 10.1+ MB\n"
     ]
    }
   ],
   "source": [
    "transid_df.info()"
   ]
  },
  {
   "cell_type": "code",
   "execution_count": 14,
   "id": "0c69a99d",
   "metadata": {},
   "outputs": [
    {
     "data": {
      "text/html": [
       "<div>\n",
       "<style scoped>\n",
       "    .dataframe tbody tr th:only-of-type {\n",
       "        vertical-align: middle;\n",
       "    }\n",
       "\n",
       "    .dataframe tbody tr th {\n",
       "        vertical-align: top;\n",
       "    }\n",
       "\n",
       "    .dataframe thead th {\n",
       "        text-align: right;\n",
       "    }\n",
       "</style>\n",
       "<table border=\"1\" class=\"dataframe\">\n",
       "  <thead>\n",
       "    <tr style=\"text-align: right;\">\n",
       "      <th></th>\n",
       "      <th>Transaction ID</th>\n",
       "      <th>Customer ID</th>\n",
       "      <th>Payment_Mode</th>\n",
       "    </tr>\n",
       "  </thead>\n",
       "  <tbody>\n",
       "    <tr>\n",
       "      <th>0</th>\n",
       "      <td>10000011</td>\n",
       "      <td>29290</td>\n",
       "      <td>Card</td>\n",
       "    </tr>\n",
       "    <tr>\n",
       "      <th>1</th>\n",
       "      <td>10000012</td>\n",
       "      <td>27703</td>\n",
       "      <td>Card</td>\n",
       "    </tr>\n",
       "    <tr>\n",
       "      <th>2</th>\n",
       "      <td>10000013</td>\n",
       "      <td>28712</td>\n",
       "      <td>Cash</td>\n",
       "    </tr>\n",
       "    <tr>\n",
       "      <th>3</th>\n",
       "      <td>10000014</td>\n",
       "      <td>28020</td>\n",
       "      <td>Cash</td>\n",
       "    </tr>\n",
       "    <tr>\n",
       "      <th>4</th>\n",
       "      <td>10000015</td>\n",
       "      <td>27182</td>\n",
       "      <td>Card</td>\n",
       "    </tr>\n",
       "  </tbody>\n",
       "</table>\n",
       "</div>"
      ],
      "text/plain": [
       "   Transaction ID  Customer ID Payment_Mode\n",
       "0        10000011        29290         Card\n",
       "1        10000012        27703         Card\n",
       "2        10000013        28712         Cash\n",
       "3        10000014        28020         Cash\n",
       "4        10000015        27182         Card"
      ]
     },
     "execution_count": 14,
     "metadata": {},
     "output_type": "execute_result"
    }
   ],
   "source": [
    "transid_df.head()"
   ]
  },
  {
   "cell_type": "code",
   "execution_count": 15,
   "id": "aad37f84",
   "metadata": {},
   "outputs": [
    {
     "data": {
      "text/plain": [
       "Transaction ID    0\n",
       "Date of Travel    0\n",
       "Company           0\n",
       "City              0\n",
       "KM Travelled      0\n",
       "Price Charged     0\n",
       "Cost of Trip      0\n",
       "dtype: int64"
      ]
     },
     "execution_count": 15,
     "metadata": {},
     "output_type": "execute_result"
    }
   ],
   "source": [
    "#check for any nullvalues in all the datasets\n",
    "\n",
    "cab_df.isna().sum()"
   ]
  },
  {
   "cell_type": "code",
   "execution_count": 16,
   "id": "2eff0abf",
   "metadata": {},
   "outputs": [
    {
     "data": {
      "text/plain": [
       "City          0\n",
       "Population    0\n",
       "Users         0\n",
       "dtype: int64"
      ]
     },
     "execution_count": 16,
     "metadata": {},
     "output_type": "execute_result"
    }
   ],
   "source": [
    "city_df.isna().sum()"
   ]
  },
  {
   "cell_type": "code",
   "execution_count": 17,
   "id": "6dc41078",
   "metadata": {},
   "outputs": [
    {
     "data": {
      "text/plain": [
       "Transaction ID    0\n",
       "Customer ID       0\n",
       "Payment_Mode      0\n",
       "dtype: int64"
      ]
     },
     "execution_count": 17,
     "metadata": {},
     "output_type": "execute_result"
    }
   ],
   "source": [
    "transid_df.isna().sum()"
   ]
  },
  {
   "cell_type": "code",
   "execution_count": 18,
   "id": "fac3c037",
   "metadata": {},
   "outputs": [
    {
     "data": {
      "text/plain": [
       "Customer ID           0\n",
       "Gender                0\n",
       "Age                   0\n",
       "Income (USD/Month)    0\n",
       "dtype: int64"
      ]
     },
     "execution_count": 18,
     "metadata": {},
     "output_type": "execute_result"
    }
   ],
   "source": [
    "custid_df.isna().sum()"
   ]
  },
  {
   "cell_type": "code",
   "execution_count": 19,
   "id": "bbf4ad50",
   "metadata": {},
   "outputs": [
    {
     "data": {
      "text/plain": [
       "0"
      ]
     },
     "execution_count": 19,
     "metadata": {},
     "output_type": "execute_result"
    }
   ],
   "source": [
    "#check for any duplicate values in all the datasets\n",
    "cab_df.duplicated().sum()"
   ]
  },
  {
   "cell_type": "code",
   "execution_count": 20,
   "id": "fe5facdb",
   "metadata": {},
   "outputs": [
    {
     "data": {
      "text/plain": [
       "0"
      ]
     },
     "execution_count": 20,
     "metadata": {},
     "output_type": "execute_result"
    }
   ],
   "source": [
    "city_df.duplicated().sum()"
   ]
  },
  {
   "cell_type": "code",
   "execution_count": 21,
   "id": "313ada09",
   "metadata": {},
   "outputs": [
    {
     "data": {
      "text/plain": [
       "0"
      ]
     },
     "execution_count": 21,
     "metadata": {},
     "output_type": "execute_result"
    }
   ],
   "source": [
    "transid_df.duplicated().sum()"
   ]
  },
  {
   "cell_type": "code",
   "execution_count": 22,
   "id": "3e45ffee",
   "metadata": {},
   "outputs": [
    {
     "data": {
      "text/plain": [
       "0"
      ]
     },
     "execution_count": 22,
     "metadata": {},
     "output_type": "execute_result"
    }
   ],
   "source": [
    "custid_df.duplicated().sum()"
   ]
  },
  {
   "cell_type": "code",
   "execution_count": 23,
   "id": "544ea2d0",
   "metadata": {},
   "outputs": [],
   "source": [
    "#There are no null values and duplicate values in all the datasets.#"
   ]
  },
  {
   "cell_type": "code",
   "execution_count": 24,
   "id": "649d4013",
   "metadata": {},
   "outputs": [],
   "source": [
    "#Next we will be doing data cleaning by changing the datatypes of required coloumns in the datasets#\n"
   ]
  },
  {
   "cell_type": "code",
   "execution_count": 25,
   "id": "046667d6",
   "metadata": {},
   "outputs": [
    {
     "data": {
      "text/plain": [
       "(359392,)"
      ]
     },
     "execution_count": 25,
     "metadata": {},
     "output_type": "execute_result"
    }
   ],
   "source": [
    "cab_df['Date of Travel'].shape"
   ]
  },
  {
   "cell_type": "code",
   "execution_count": 26,
   "id": "3f2a58a2",
   "metadata": {},
   "outputs": [],
   "source": [
    "#Converting the Date format from serial number to datetime for Date of Travel column\n",
    "for i in range(359392):\n",
    "    excel_date=[]\n",
    "    excel_date = cab_df.iloc[i,1]\n",
    "    datetime_obj = xlrd.xldate_as_datetime(excel_date, 0)\n",
    "    dateobj = datetime_obj.date()\n",
    "    str_date = dateobj.isoformat()\n",
    "    cab_df.iloc[i,1]=str_date"
   ]
  },
  {
   "cell_type": "code",
   "execution_count": 27,
   "id": "94c478f8",
   "metadata": {},
   "outputs": [
    {
     "data": {
      "text/html": [
       "<div>\n",
       "<style scoped>\n",
       "    .dataframe tbody tr th:only-of-type {\n",
       "        vertical-align: middle;\n",
       "    }\n",
       "\n",
       "    .dataframe tbody tr th {\n",
       "        vertical-align: top;\n",
       "    }\n",
       "\n",
       "    .dataframe thead th {\n",
       "        text-align: right;\n",
       "    }\n",
       "</style>\n",
       "<table border=\"1\" class=\"dataframe\">\n",
       "  <thead>\n",
       "    <tr style=\"text-align: right;\">\n",
       "      <th></th>\n",
       "      <th>Transaction ID</th>\n",
       "      <th>Date of Travel</th>\n",
       "      <th>Company</th>\n",
       "      <th>City</th>\n",
       "      <th>KM Travelled</th>\n",
       "      <th>Price Charged</th>\n",
       "      <th>Cost of Trip</th>\n",
       "    </tr>\n",
       "  </thead>\n",
       "  <tbody>\n",
       "    <tr>\n",
       "      <th>0</th>\n",
       "      <td>10000011</td>\n",
       "      <td>2016-01-08</td>\n",
       "      <td>Pink Cab</td>\n",
       "      <td>ATLANTA GA</td>\n",
       "      <td>30.45</td>\n",
       "      <td>370.95</td>\n",
       "      <td>313.635</td>\n",
       "    </tr>\n",
       "    <tr>\n",
       "      <th>1</th>\n",
       "      <td>10000012</td>\n",
       "      <td>2016-01-06</td>\n",
       "      <td>Pink Cab</td>\n",
       "      <td>ATLANTA GA</td>\n",
       "      <td>28.62</td>\n",
       "      <td>358.52</td>\n",
       "      <td>334.854</td>\n",
       "    </tr>\n",
       "    <tr>\n",
       "      <th>2</th>\n",
       "      <td>10000013</td>\n",
       "      <td>2016-01-02</td>\n",
       "      <td>Pink Cab</td>\n",
       "      <td>ATLANTA GA</td>\n",
       "      <td>9.04</td>\n",
       "      <td>125.20</td>\n",
       "      <td>97.632</td>\n",
       "    </tr>\n",
       "    <tr>\n",
       "      <th>3</th>\n",
       "      <td>10000014</td>\n",
       "      <td>2016-01-07</td>\n",
       "      <td>Pink Cab</td>\n",
       "      <td>ATLANTA GA</td>\n",
       "      <td>33.17</td>\n",
       "      <td>377.40</td>\n",
       "      <td>351.602</td>\n",
       "    </tr>\n",
       "    <tr>\n",
       "      <th>4</th>\n",
       "      <td>10000015</td>\n",
       "      <td>2016-01-03</td>\n",
       "      <td>Pink Cab</td>\n",
       "      <td>ATLANTA GA</td>\n",
       "      <td>8.73</td>\n",
       "      <td>114.62</td>\n",
       "      <td>97.776</td>\n",
       "    </tr>\n",
       "  </tbody>\n",
       "</table>\n",
       "</div>"
      ],
      "text/plain": [
       "   Transaction ID Date of Travel   Company        City  KM Travelled  \\\n",
       "0        10000011     2016-01-08  Pink Cab  ATLANTA GA         30.45   \n",
       "1        10000012     2016-01-06  Pink Cab  ATLANTA GA         28.62   \n",
       "2        10000013     2016-01-02  Pink Cab  ATLANTA GA          9.04   \n",
       "3        10000014     2016-01-07  Pink Cab  ATLANTA GA         33.17   \n",
       "4        10000015     2016-01-03  Pink Cab  ATLANTA GA          8.73   \n",
       "\n",
       "   Price Charged  Cost of Trip  \n",
       "0         370.95       313.635  \n",
       "1         358.52       334.854  \n",
       "2         125.20        97.632  \n",
       "3         377.40       351.602  \n",
       "4         114.62        97.776  "
      ]
     },
     "execution_count": 27,
     "metadata": {},
     "output_type": "execute_result"
    }
   ],
   "source": [
    "cab_df.head()"
   ]
  },
  {
   "cell_type": "code",
   "execution_count": 28,
   "id": "aa468e93",
   "metadata": {},
   "outputs": [
    {
     "data": {
      "text/html": [
       "<div>\n",
       "<style scoped>\n",
       "    .dataframe tbody tr th:only-of-type {\n",
       "        vertical-align: middle;\n",
       "    }\n",
       "\n",
       "    .dataframe tbody tr th {\n",
       "        vertical-align: top;\n",
       "    }\n",
       "\n",
       "    .dataframe thead th {\n",
       "        text-align: right;\n",
       "    }\n",
       "</style>\n",
       "<table border=\"1\" class=\"dataframe\">\n",
       "  <thead>\n",
       "    <tr style=\"text-align: right;\">\n",
       "      <th></th>\n",
       "      <th>Transaction ID</th>\n",
       "      <th>Date of Travel</th>\n",
       "      <th>Company</th>\n",
       "      <th>City</th>\n",
       "      <th>KM Travelled</th>\n",
       "      <th>Price Charged</th>\n",
       "      <th>Cost of Trip</th>\n",
       "    </tr>\n",
       "  </thead>\n",
       "  <tbody>\n",
       "    <tr>\n",
       "      <th>359387</th>\n",
       "      <td>10440101</td>\n",
       "      <td>2018-01-08</td>\n",
       "      <td>Yellow Cab</td>\n",
       "      <td>WASHINGTON DC</td>\n",
       "      <td>4.80</td>\n",
       "      <td>69.24</td>\n",
       "      <td>63.3600</td>\n",
       "    </tr>\n",
       "    <tr>\n",
       "      <th>359388</th>\n",
       "      <td>10440104</td>\n",
       "      <td>2018-01-04</td>\n",
       "      <td>Yellow Cab</td>\n",
       "      <td>WASHINGTON DC</td>\n",
       "      <td>8.40</td>\n",
       "      <td>113.75</td>\n",
       "      <td>106.8480</td>\n",
       "    </tr>\n",
       "    <tr>\n",
       "      <th>359389</th>\n",
       "      <td>10440105</td>\n",
       "      <td>2018-01-05</td>\n",
       "      <td>Yellow Cab</td>\n",
       "      <td>WASHINGTON DC</td>\n",
       "      <td>27.75</td>\n",
       "      <td>437.07</td>\n",
       "      <td>349.6500</td>\n",
       "    </tr>\n",
       "    <tr>\n",
       "      <th>359390</th>\n",
       "      <td>10440106</td>\n",
       "      <td>2018-01-05</td>\n",
       "      <td>Yellow Cab</td>\n",
       "      <td>WASHINGTON DC</td>\n",
       "      <td>8.80</td>\n",
       "      <td>146.19</td>\n",
       "      <td>114.0480</td>\n",
       "    </tr>\n",
       "    <tr>\n",
       "      <th>359391</th>\n",
       "      <td>10440107</td>\n",
       "      <td>2018-01-02</td>\n",
       "      <td>Yellow Cab</td>\n",
       "      <td>WASHINGTON DC</td>\n",
       "      <td>12.76</td>\n",
       "      <td>191.58</td>\n",
       "      <td>177.6192</td>\n",
       "    </tr>\n",
       "  </tbody>\n",
       "</table>\n",
       "</div>"
      ],
      "text/plain": [
       "        Transaction ID Date of Travel     Company           City  \\\n",
       "359387        10440101     2018-01-08  Yellow Cab  WASHINGTON DC   \n",
       "359388        10440104     2018-01-04  Yellow Cab  WASHINGTON DC   \n",
       "359389        10440105     2018-01-05  Yellow Cab  WASHINGTON DC   \n",
       "359390        10440106     2018-01-05  Yellow Cab  WASHINGTON DC   \n",
       "359391        10440107     2018-01-02  Yellow Cab  WASHINGTON DC   \n",
       "\n",
       "        KM Travelled  Price Charged  Cost of Trip  \n",
       "359387          4.80          69.24       63.3600  \n",
       "359388          8.40         113.75      106.8480  \n",
       "359389         27.75         437.07      349.6500  \n",
       "359390          8.80         146.19      114.0480  \n",
       "359391         12.76         191.58      177.6192  "
      ]
     },
     "execution_count": 28,
     "metadata": {},
     "output_type": "execute_result"
    }
   ],
   "source": [
    "cab_df.tail()"
   ]
  },
  {
   "cell_type": "code",
   "execution_count": 29,
   "id": "6b801eed",
   "metadata": {},
   "outputs": [
    {
     "name": "stdout",
     "output_type": "stream",
     "text": [
      "<class 'pandas.core.frame.DataFrame'>\n",
      "RangeIndex: 359392 entries, 0 to 359391\n",
      "Data columns (total 7 columns):\n",
      " #   Column          Non-Null Count   Dtype  \n",
      "---  ------          --------------   -----  \n",
      " 0   Transaction ID  359392 non-null  int64  \n",
      " 1   Date of Travel  359392 non-null  object \n",
      " 2   Company         359392 non-null  object \n",
      " 3   City            359392 non-null  object \n",
      " 4   KM Travelled    359392 non-null  float64\n",
      " 5   Price Charged   359392 non-null  float64\n",
      " 6   Cost of Trip    359392 non-null  float64\n",
      "dtypes: float64(3), int64(1), object(3)\n",
      "memory usage: 19.2+ MB\n"
     ]
    }
   ],
   "source": [
    "cab_df.info()"
   ]
  },
  {
   "cell_type": "code",
   "execution_count": 30,
   "id": "943eba5a",
   "metadata": {},
   "outputs": [],
   "source": [
    "#Converting the datatype of Date of Travel to Datetime from Object\n",
    "cab_df['Date of Travel'] = pd.to_datetime(cab_df['Date of Travel'])"
   ]
  },
  {
   "cell_type": "code",
   "execution_count": 31,
   "id": "433f7b1b",
   "metadata": {},
   "outputs": [
    {
     "name": "stdout",
     "output_type": "stream",
     "text": [
      "<class 'pandas.core.frame.DataFrame'>\n",
      "RangeIndex: 359392 entries, 0 to 359391\n",
      "Data columns (total 7 columns):\n",
      " #   Column          Non-Null Count   Dtype         \n",
      "---  ------          --------------   -----         \n",
      " 0   Transaction ID  359392 non-null  int64         \n",
      " 1   Date of Travel  359392 non-null  datetime64[ns]\n",
      " 2   Company         359392 non-null  object        \n",
      " 3   City            359392 non-null  object        \n",
      " 4   KM Travelled    359392 non-null  float64       \n",
      " 5   Price Charged   359392 non-null  float64       \n",
      " 6   Cost of Trip    359392 non-null  float64       \n",
      "dtypes: datetime64[ns](1), float64(3), int64(1), object(2)\n",
      "memory usage: 19.2+ MB\n"
     ]
    }
   ],
   "source": [
    "cab_df.info()"
   ]
  },
  {
   "cell_type": "code",
   "execution_count": 32,
   "id": "ab31429d",
   "metadata": {},
   "outputs": [],
   "source": [
    "#removing commas in Population and Users to convert it to integer\n",
    "\n",
    "city_df.Population = [city_df.Population[i].replace(\",\", \"\") for i in range(len(city_df))]\n",
    "city_df.Users = [city_df.Users[i].replace(\",\", \"\") for i in range(len(city_df))]"
   ]
  },
  {
   "cell_type": "code",
   "execution_count": 33,
   "id": "e4494257",
   "metadata": {},
   "outputs": [
    {
     "data": {
      "text/html": [
       "<div>\n",
       "<style scoped>\n",
       "    .dataframe tbody tr th:only-of-type {\n",
       "        vertical-align: middle;\n",
       "    }\n",
       "\n",
       "    .dataframe tbody tr th {\n",
       "        vertical-align: top;\n",
       "    }\n",
       "\n",
       "    .dataframe thead th {\n",
       "        text-align: right;\n",
       "    }\n",
       "</style>\n",
       "<table border=\"1\" class=\"dataframe\">\n",
       "  <thead>\n",
       "    <tr style=\"text-align: right;\">\n",
       "      <th></th>\n",
       "      <th>City</th>\n",
       "      <th>Population</th>\n",
       "      <th>Users</th>\n",
       "    </tr>\n",
       "  </thead>\n",
       "  <tbody>\n",
       "    <tr>\n",
       "      <th>0</th>\n",
       "      <td>NEW YORK NY</td>\n",
       "      <td>8405837</td>\n",
       "      <td>302149</td>\n",
       "    </tr>\n",
       "    <tr>\n",
       "      <th>1</th>\n",
       "      <td>CHICAGO IL</td>\n",
       "      <td>1955130</td>\n",
       "      <td>164468</td>\n",
       "    </tr>\n",
       "    <tr>\n",
       "      <th>2</th>\n",
       "      <td>LOS ANGELES CA</td>\n",
       "      <td>1595037</td>\n",
       "      <td>144132</td>\n",
       "    </tr>\n",
       "    <tr>\n",
       "      <th>3</th>\n",
       "      <td>MIAMI FL</td>\n",
       "      <td>1339155</td>\n",
       "      <td>17675</td>\n",
       "    </tr>\n",
       "    <tr>\n",
       "      <th>4</th>\n",
       "      <td>SILICON VALLEY</td>\n",
       "      <td>1177609</td>\n",
       "      <td>27247</td>\n",
       "    </tr>\n",
       "  </tbody>\n",
       "</table>\n",
       "</div>"
      ],
      "text/plain": [
       "             City Population     Users\n",
       "0     NEW YORK NY   8405837    302149 \n",
       "1      CHICAGO IL   1955130    164468 \n",
       "2  LOS ANGELES CA   1595037    144132 \n",
       "3        MIAMI FL   1339155     17675 \n",
       "4  SILICON VALLEY   1177609     27247 "
      ]
     },
     "execution_count": 33,
     "metadata": {},
     "output_type": "execute_result"
    }
   ],
   "source": [
    "city_df.head()"
   ]
  },
  {
   "cell_type": "code",
   "execution_count": 34,
   "id": "9b772abb",
   "metadata": {},
   "outputs": [],
   "source": [
    "#Converting Population and Users to Interger after removeing commas\n",
    "city_df.Population = city_df.Population.astype('int64')\n",
    "city_df.Users = city_df.Users.astype('int64')"
   ]
  },
  {
   "cell_type": "code",
   "execution_count": 35,
   "id": "27db6858",
   "metadata": {},
   "outputs": [
    {
     "name": "stdout",
     "output_type": "stream",
     "text": [
      "<class 'pandas.core.frame.DataFrame'>\n",
      "RangeIndex: 20 entries, 0 to 19\n",
      "Data columns (total 3 columns):\n",
      " #   Column      Non-Null Count  Dtype \n",
      "---  ------      --------------  ----- \n",
      " 0   City        20 non-null     object\n",
      " 1   Population  20 non-null     int64 \n",
      " 2   Users       20 non-null     int64 \n",
      "dtypes: int64(2), object(1)\n",
      "memory usage: 608.0+ bytes\n"
     ]
    }
   ],
   "source": [
    "city_df.info()"
   ]
  },
  {
   "cell_type": "code",
   "execution_count": 36,
   "id": "5f4999a9",
   "metadata": {},
   "outputs": [],
   "source": [
    "#Merge the datasets required to create the master data\n",
    "\n",
    "df1=pd.merge(cab_df,transid_df,on='Transaction ID')"
   ]
  },
  {
   "cell_type": "code",
   "execution_count": 37,
   "id": "772527a1",
   "metadata": {},
   "outputs": [
    {
     "data": {
      "text/plain": [
       "(359392, 9)"
      ]
     },
     "execution_count": 37,
     "metadata": {},
     "output_type": "execute_result"
    }
   ],
   "source": [
    "df1.shape"
   ]
  },
  {
   "cell_type": "code",
   "execution_count": 38,
   "id": "331a6e7b",
   "metadata": {},
   "outputs": [],
   "source": [
    "df2=pd.merge(df1,custid_df,on='Customer ID')"
   ]
  },
  {
   "cell_type": "code",
   "execution_count": 39,
   "id": "8341fe37",
   "metadata": {},
   "outputs": [
    {
     "data": {
      "text/plain": [
       "(359392, 12)"
      ]
     },
     "execution_count": 39,
     "metadata": {},
     "output_type": "execute_result"
    }
   ],
   "source": [
    "df2.shape"
   ]
  },
  {
   "cell_type": "code",
   "execution_count": 40,
   "id": "8165ac24",
   "metadata": {},
   "outputs": [
    {
     "name": "stdout",
     "output_type": "stream",
     "text": [
      "<class 'pandas.core.frame.DataFrame'>\n",
      "Int64Index: 359392 entries, 0 to 359391\n",
      "Data columns (total 12 columns):\n",
      " #   Column              Non-Null Count   Dtype         \n",
      "---  ------              --------------   -----         \n",
      " 0   Transaction ID      359392 non-null  int64         \n",
      " 1   Date of Travel      359392 non-null  datetime64[ns]\n",
      " 2   Company             359392 non-null  object        \n",
      " 3   City                359392 non-null  object        \n",
      " 4   KM Travelled        359392 non-null  float64       \n",
      " 5   Price Charged       359392 non-null  float64       \n",
      " 6   Cost of Trip        359392 non-null  float64       \n",
      " 7   Customer ID         359392 non-null  int64         \n",
      " 8   Payment_Mode        359392 non-null  object        \n",
      " 9   Gender              359392 non-null  object        \n",
      " 10  Age                 359392 non-null  int64         \n",
      " 11  Income (USD/Month)  359392 non-null  int64         \n",
      "dtypes: datetime64[ns](1), float64(3), int64(4), object(4)\n",
      "memory usage: 35.6+ MB\n"
     ]
    }
   ],
   "source": [
    "df2.info()"
   ]
  },
  {
   "cell_type": "code",
   "execution_count": 41,
   "id": "f2548133",
   "metadata": {},
   "outputs": [
    {
     "data": {
      "text/plain": [
       "Transaction ID        0\n",
       "Date of Travel        0\n",
       "Company               0\n",
       "City                  0\n",
       "KM Travelled          0\n",
       "Price Charged         0\n",
       "Cost of Trip          0\n",
       "Customer ID           0\n",
       "Payment_Mode          0\n",
       "Gender                0\n",
       "Age                   0\n",
       "Income (USD/Month)    0\n",
       "dtype: int64"
      ]
     },
     "execution_count": 41,
     "metadata": {},
     "output_type": "execute_result"
    }
   ],
   "source": [
    "#Check if any null values and duplicates after merging datasets into master data\n",
    "\n",
    "df2.isna().sum()"
   ]
  },
  {
   "cell_type": "code",
   "execution_count": 42,
   "id": "be88c050",
   "metadata": {},
   "outputs": [
    {
     "data": {
      "text/plain": [
       "0"
      ]
     },
     "execution_count": 42,
     "metadata": {},
     "output_type": "execute_result"
    }
   ],
   "source": [
    "df2.duplicated().sum()"
   ]
  },
  {
   "cell_type": "code",
   "execution_count": 43,
   "id": "1acc8c3a",
   "metadata": {},
   "outputs": [
    {
     "data": {
      "text/html": [
       "<div>\n",
       "<style scoped>\n",
       "    .dataframe tbody tr th:only-of-type {\n",
       "        vertical-align: middle;\n",
       "    }\n",
       "\n",
       "    .dataframe tbody tr th {\n",
       "        vertical-align: top;\n",
       "    }\n",
       "\n",
       "    .dataframe thead th {\n",
       "        text-align: right;\n",
       "    }\n",
       "</style>\n",
       "<table border=\"1\" class=\"dataframe\">\n",
       "  <thead>\n",
       "    <tr style=\"text-align: right;\">\n",
       "      <th></th>\n",
       "      <th>Transaction ID</th>\n",
       "      <th>Date of Travel</th>\n",
       "      <th>Company</th>\n",
       "      <th>City</th>\n",
       "      <th>KM Travelled</th>\n",
       "      <th>Price Charged</th>\n",
       "      <th>Cost of Trip</th>\n",
       "      <th>Customer ID</th>\n",
       "      <th>Payment_Mode</th>\n",
       "      <th>Gender</th>\n",
       "      <th>Age</th>\n",
       "      <th>Income (USD/Month)</th>\n",
       "    </tr>\n",
       "  </thead>\n",
       "  <tbody>\n",
       "    <tr>\n",
       "      <th>0</th>\n",
       "      <td>10000011</td>\n",
       "      <td>2016-01-08</td>\n",
       "      <td>Pink Cab</td>\n",
       "      <td>ATLANTA GA</td>\n",
       "      <td>30.45</td>\n",
       "      <td>370.95</td>\n",
       "      <td>313.6350</td>\n",
       "      <td>29290</td>\n",
       "      <td>Card</td>\n",
       "      <td>Male</td>\n",
       "      <td>28</td>\n",
       "      <td>10813</td>\n",
       "    </tr>\n",
       "    <tr>\n",
       "      <th>1</th>\n",
       "      <td>10351127</td>\n",
       "      <td>2018-07-21</td>\n",
       "      <td>Yellow Cab</td>\n",
       "      <td>ATLANTA GA</td>\n",
       "      <td>26.19</td>\n",
       "      <td>598.70</td>\n",
       "      <td>317.4228</td>\n",
       "      <td>29290</td>\n",
       "      <td>Cash</td>\n",
       "      <td>Male</td>\n",
       "      <td>28</td>\n",
       "      <td>10813</td>\n",
       "    </tr>\n",
       "    <tr>\n",
       "      <th>2</th>\n",
       "      <td>10412921</td>\n",
       "      <td>2018-11-23</td>\n",
       "      <td>Yellow Cab</td>\n",
       "      <td>ATLANTA GA</td>\n",
       "      <td>42.55</td>\n",
       "      <td>792.05</td>\n",
       "      <td>597.4020</td>\n",
       "      <td>29290</td>\n",
       "      <td>Card</td>\n",
       "      <td>Male</td>\n",
       "      <td>28</td>\n",
       "      <td>10813</td>\n",
       "    </tr>\n",
       "    <tr>\n",
       "      <th>3</th>\n",
       "      <td>10000012</td>\n",
       "      <td>2016-01-06</td>\n",
       "      <td>Pink Cab</td>\n",
       "      <td>ATLANTA GA</td>\n",
       "      <td>28.62</td>\n",
       "      <td>358.52</td>\n",
       "      <td>334.8540</td>\n",
       "      <td>27703</td>\n",
       "      <td>Card</td>\n",
       "      <td>Male</td>\n",
       "      <td>27</td>\n",
       "      <td>9237</td>\n",
       "    </tr>\n",
       "    <tr>\n",
       "      <th>4</th>\n",
       "      <td>10320494</td>\n",
       "      <td>2018-04-21</td>\n",
       "      <td>Yellow Cab</td>\n",
       "      <td>ATLANTA GA</td>\n",
       "      <td>36.38</td>\n",
       "      <td>721.10</td>\n",
       "      <td>467.1192</td>\n",
       "      <td>27703</td>\n",
       "      <td>Card</td>\n",
       "      <td>Male</td>\n",
       "      <td>27</td>\n",
       "      <td>9237</td>\n",
       "    </tr>\n",
       "    <tr>\n",
       "      <th>5</th>\n",
       "      <td>10324737</td>\n",
       "      <td>2018-05-04</td>\n",
       "      <td>Yellow Cab</td>\n",
       "      <td>ATLANTA GA</td>\n",
       "      <td>6.18</td>\n",
       "      <td>138.40</td>\n",
       "      <td>87.5088</td>\n",
       "      <td>27703</td>\n",
       "      <td>Cash</td>\n",
       "      <td>Male</td>\n",
       "      <td>27</td>\n",
       "      <td>9237</td>\n",
       "    </tr>\n",
       "    <tr>\n",
       "      <th>6</th>\n",
       "      <td>10395626</td>\n",
       "      <td>2018-10-27</td>\n",
       "      <td>Pink Cab</td>\n",
       "      <td>ATLANTA GA</td>\n",
       "      <td>13.39</td>\n",
       "      <td>167.03</td>\n",
       "      <td>141.9340</td>\n",
       "      <td>27703</td>\n",
       "      <td>Card</td>\n",
       "      <td>Male</td>\n",
       "      <td>27</td>\n",
       "      <td>9237</td>\n",
       "    </tr>\n",
       "    <tr>\n",
       "      <th>7</th>\n",
       "      <td>10000013</td>\n",
       "      <td>2016-01-02</td>\n",
       "      <td>Pink Cab</td>\n",
       "      <td>ATLANTA GA</td>\n",
       "      <td>9.04</td>\n",
       "      <td>125.20</td>\n",
       "      <td>97.6320</td>\n",
       "      <td>28712</td>\n",
       "      <td>Cash</td>\n",
       "      <td>Male</td>\n",
       "      <td>53</td>\n",
       "      <td>11242</td>\n",
       "    </tr>\n",
       "    <tr>\n",
       "      <th>8</th>\n",
       "      <td>10079404</td>\n",
       "      <td>2016-09-21</td>\n",
       "      <td>Yellow Cab</td>\n",
       "      <td>ATLANTA GA</td>\n",
       "      <td>39.60</td>\n",
       "      <td>704.30</td>\n",
       "      <td>494.2080</td>\n",
       "      <td>28712</td>\n",
       "      <td>Card</td>\n",
       "      <td>Male</td>\n",
       "      <td>53</td>\n",
       "      <td>11242</td>\n",
       "    </tr>\n",
       "    <tr>\n",
       "      <th>9</th>\n",
       "      <td>10186994</td>\n",
       "      <td>2017-06-23</td>\n",
       "      <td>Yellow Cab</td>\n",
       "      <td>ATLANTA GA</td>\n",
       "      <td>18.19</td>\n",
       "      <td>365.63</td>\n",
       "      <td>246.6564</td>\n",
       "      <td>28712</td>\n",
       "      <td>Card</td>\n",
       "      <td>Male</td>\n",
       "      <td>53</td>\n",
       "      <td>11242</td>\n",
       "    </tr>\n",
       "  </tbody>\n",
       "</table>\n",
       "</div>"
      ],
      "text/plain": [
       "   Transaction ID Date of Travel     Company        City  KM Travelled  \\\n",
       "0        10000011     2016-01-08    Pink Cab  ATLANTA GA         30.45   \n",
       "1        10351127     2018-07-21  Yellow Cab  ATLANTA GA         26.19   \n",
       "2        10412921     2018-11-23  Yellow Cab  ATLANTA GA         42.55   \n",
       "3        10000012     2016-01-06    Pink Cab  ATLANTA GA         28.62   \n",
       "4        10320494     2018-04-21  Yellow Cab  ATLANTA GA         36.38   \n",
       "5        10324737     2018-05-04  Yellow Cab  ATLANTA GA          6.18   \n",
       "6        10395626     2018-10-27    Pink Cab  ATLANTA GA         13.39   \n",
       "7        10000013     2016-01-02    Pink Cab  ATLANTA GA          9.04   \n",
       "8        10079404     2016-09-21  Yellow Cab  ATLANTA GA         39.60   \n",
       "9        10186994     2017-06-23  Yellow Cab  ATLANTA GA         18.19   \n",
       "\n",
       "   Price Charged  Cost of Trip  Customer ID Payment_Mode Gender  Age  \\\n",
       "0         370.95      313.6350        29290         Card   Male   28   \n",
       "1         598.70      317.4228        29290         Cash   Male   28   \n",
       "2         792.05      597.4020        29290         Card   Male   28   \n",
       "3         358.52      334.8540        27703         Card   Male   27   \n",
       "4         721.10      467.1192        27703         Card   Male   27   \n",
       "5         138.40       87.5088        27703         Cash   Male   27   \n",
       "6         167.03      141.9340        27703         Card   Male   27   \n",
       "7         125.20       97.6320        28712         Cash   Male   53   \n",
       "8         704.30      494.2080        28712         Card   Male   53   \n",
       "9         365.63      246.6564        28712         Card   Male   53   \n",
       "\n",
       "   Income (USD/Month)  \n",
       "0               10813  \n",
       "1               10813  \n",
       "2               10813  \n",
       "3                9237  \n",
       "4                9237  \n",
       "5                9237  \n",
       "6                9237  \n",
       "7               11242  \n",
       "8               11242  \n",
       "9               11242  "
      ]
     },
     "execution_count": 43,
     "metadata": {},
     "output_type": "execute_result"
    }
   ],
   "source": [
    "df2.head(10)"
   ]
  },
  {
   "cell_type": "code",
   "execution_count": 44,
   "id": "3a306e72",
   "metadata": {},
   "outputs": [],
   "source": [
    "# we will split the city coloumn in both city dataset and masterdata into city and state coloumns"
   ]
  },
  {
   "cell_type": "code",
   "execution_count": 45,
   "id": "d34e4a61",
   "metadata": {},
   "outputs": [],
   "source": [
    "city_df['State']=city_df['City'].copy()"
   ]
  },
  {
   "cell_type": "code",
   "execution_count": 46,
   "id": "a7db254b",
   "metadata": {},
   "outputs": [],
   "source": [
    "State = city_df['State'].str[-2:]\n",
    "city_df['State'] = State\n",
    "City=city_df['City'].str[:-3]\n",
    "city_df['City']=City"
   ]
  },
  {
   "cell_type": "code",
   "execution_count": 47,
   "id": "1426c37e",
   "metadata": {},
   "outputs": [
    {
     "data": {
      "text/html": [
       "<div>\n",
       "<style scoped>\n",
       "    .dataframe tbody tr th:only-of-type {\n",
       "        vertical-align: middle;\n",
       "    }\n",
       "\n",
       "    .dataframe tbody tr th {\n",
       "        vertical-align: top;\n",
       "    }\n",
       "\n",
       "    .dataframe thead th {\n",
       "        text-align: right;\n",
       "    }\n",
       "</style>\n",
       "<table border=\"1\" class=\"dataframe\">\n",
       "  <thead>\n",
       "    <tr style=\"text-align: right;\">\n",
       "      <th></th>\n",
       "      <th>City</th>\n",
       "      <th>Population</th>\n",
       "      <th>Users</th>\n",
       "      <th>State</th>\n",
       "    </tr>\n",
       "  </thead>\n",
       "  <tbody>\n",
       "    <tr>\n",
       "      <th>0</th>\n",
       "      <td>NEW YORK</td>\n",
       "      <td>8405837</td>\n",
       "      <td>302149</td>\n",
       "      <td>NY</td>\n",
       "    </tr>\n",
       "    <tr>\n",
       "      <th>1</th>\n",
       "      <td>CHICAGO</td>\n",
       "      <td>1955130</td>\n",
       "      <td>164468</td>\n",
       "      <td>IL</td>\n",
       "    </tr>\n",
       "    <tr>\n",
       "      <th>2</th>\n",
       "      <td>LOS ANGELES</td>\n",
       "      <td>1595037</td>\n",
       "      <td>144132</td>\n",
       "      <td>CA</td>\n",
       "    </tr>\n",
       "    <tr>\n",
       "      <th>3</th>\n",
       "      <td>MIAMI</td>\n",
       "      <td>1339155</td>\n",
       "      <td>17675</td>\n",
       "      <td>FL</td>\n",
       "    </tr>\n",
       "    <tr>\n",
       "      <th>4</th>\n",
       "      <td>SILICON VAL</td>\n",
       "      <td>1177609</td>\n",
       "      <td>27247</td>\n",
       "      <td>EY</td>\n",
       "    </tr>\n",
       "    <tr>\n",
       "      <th>5</th>\n",
       "      <td>ORANGE COU</td>\n",
       "      <td>1030185</td>\n",
       "      <td>12994</td>\n",
       "      <td>TY</td>\n",
       "    </tr>\n",
       "    <tr>\n",
       "      <th>6</th>\n",
       "      <td>SAN DIEGO</td>\n",
       "      <td>959307</td>\n",
       "      <td>69995</td>\n",
       "      <td>CA</td>\n",
       "    </tr>\n",
       "    <tr>\n",
       "      <th>7</th>\n",
       "      <td>PHOENIX</td>\n",
       "      <td>943999</td>\n",
       "      <td>6133</td>\n",
       "      <td>AZ</td>\n",
       "    </tr>\n",
       "    <tr>\n",
       "      <th>8</th>\n",
       "      <td>DALLAS</td>\n",
       "      <td>942908</td>\n",
       "      <td>22157</td>\n",
       "      <td>TX</td>\n",
       "    </tr>\n",
       "    <tr>\n",
       "      <th>9</th>\n",
       "      <td>ATLANTA</td>\n",
       "      <td>814885</td>\n",
       "      <td>24701</td>\n",
       "      <td>GA</td>\n",
       "    </tr>\n",
       "    <tr>\n",
       "      <th>10</th>\n",
       "      <td>DENVER</td>\n",
       "      <td>754233</td>\n",
       "      <td>12421</td>\n",
       "      <td>CO</td>\n",
       "    </tr>\n",
       "    <tr>\n",
       "      <th>11</th>\n",
       "      <td>AUSTIN</td>\n",
       "      <td>698371</td>\n",
       "      <td>14978</td>\n",
       "      <td>TX</td>\n",
       "    </tr>\n",
       "    <tr>\n",
       "      <th>12</th>\n",
       "      <td>SEATTLE</td>\n",
       "      <td>671238</td>\n",
       "      <td>25063</td>\n",
       "      <td>WA</td>\n",
       "    </tr>\n",
       "    <tr>\n",
       "      <th>13</th>\n",
       "      <td>TUCSON</td>\n",
       "      <td>631442</td>\n",
       "      <td>5712</td>\n",
       "      <td>AZ</td>\n",
       "    </tr>\n",
       "    <tr>\n",
       "      <th>14</th>\n",
       "      <td>SAN FRANCISCO</td>\n",
       "      <td>629591</td>\n",
       "      <td>213609</td>\n",
       "      <td>CA</td>\n",
       "    </tr>\n",
       "    <tr>\n",
       "      <th>15</th>\n",
       "      <td>SACRAMENTO</td>\n",
       "      <td>545776</td>\n",
       "      <td>7044</td>\n",
       "      <td>CA</td>\n",
       "    </tr>\n",
       "    <tr>\n",
       "      <th>16</th>\n",
       "      <td>PITTSBURGH</td>\n",
       "      <td>542085</td>\n",
       "      <td>3643</td>\n",
       "      <td>PA</td>\n",
       "    </tr>\n",
       "    <tr>\n",
       "      <th>17</th>\n",
       "      <td>WASHINGTON</td>\n",
       "      <td>418859</td>\n",
       "      <td>127001</td>\n",
       "      <td>DC</td>\n",
       "    </tr>\n",
       "    <tr>\n",
       "      <th>18</th>\n",
       "      <td>NASHVILLE</td>\n",
       "      <td>327225</td>\n",
       "      <td>9270</td>\n",
       "      <td>TN</td>\n",
       "    </tr>\n",
       "    <tr>\n",
       "      <th>19</th>\n",
       "      <td>BOSTON</td>\n",
       "      <td>248968</td>\n",
       "      <td>80021</td>\n",
       "      <td>MA</td>\n",
       "    </tr>\n",
       "  </tbody>\n",
       "</table>\n",
       "</div>"
      ],
      "text/plain": [
       "             City  Population   Users State\n",
       "0        NEW YORK     8405837  302149    NY\n",
       "1         CHICAGO     1955130  164468    IL\n",
       "2     LOS ANGELES     1595037  144132    CA\n",
       "3           MIAMI     1339155   17675    FL\n",
       "4     SILICON VAL     1177609   27247    EY\n",
       "5      ORANGE COU     1030185   12994    TY\n",
       "6       SAN DIEGO      959307   69995    CA\n",
       "7         PHOENIX      943999    6133    AZ\n",
       "8          DALLAS      942908   22157    TX\n",
       "9         ATLANTA      814885   24701    GA\n",
       "10         DENVER      754233   12421    CO\n",
       "11         AUSTIN      698371   14978    TX\n",
       "12        SEATTLE      671238   25063    WA\n",
       "13         TUCSON      631442    5712    AZ\n",
       "14  SAN FRANCISCO      629591  213609    CA\n",
       "15     SACRAMENTO      545776    7044    CA\n",
       "16     PITTSBURGH      542085    3643    PA\n",
       "17     WASHINGTON      418859  127001    DC\n",
       "18      NASHVILLE      327225    9270    TN\n",
       "19         BOSTON      248968   80021    MA"
      ]
     },
     "execution_count": 47,
     "metadata": {},
     "output_type": "execute_result"
    }
   ],
   "source": [
    "city_df.head(20)"
   ]
  },
  {
   "cell_type": "code",
   "execution_count": 50,
   "id": "9987f2a0",
   "metadata": {},
   "outputs": [],
   "source": [
    "#Replacing 2 entries whose state value is missing with there original city names\n",
    "city_df[\"City\"].replace({\"SILICON VAL\": \"SILICON VALLEY\", \"ORANGE COU\": \"ORANGE COUNTY\"}, inplace=True)"
   ]
  },
  {
   "cell_type": "code",
   "execution_count": 51,
   "id": "1a500351",
   "metadata": {},
   "outputs": [],
   "source": [
    "#Replacing those 2 cities state values with CA as california as they both come under california state\n",
    "city_df[\"State\"].replace({\"EY\": \"CA\", \"TY\": \"CA\"}, inplace=True)"
   ]
  },
  {
   "cell_type": "code",
   "execution_count": 52,
   "id": "5f555d44",
   "metadata": {},
   "outputs": [
    {
     "data": {
      "text/html": [
       "<div>\n",
       "<style scoped>\n",
       "    .dataframe tbody tr th:only-of-type {\n",
       "        vertical-align: middle;\n",
       "    }\n",
       "\n",
       "    .dataframe tbody tr th {\n",
       "        vertical-align: top;\n",
       "    }\n",
       "\n",
       "    .dataframe thead th {\n",
       "        text-align: right;\n",
       "    }\n",
       "</style>\n",
       "<table border=\"1\" class=\"dataframe\">\n",
       "  <thead>\n",
       "    <tr style=\"text-align: right;\">\n",
       "      <th></th>\n",
       "      <th>City</th>\n",
       "      <th>Population</th>\n",
       "      <th>Users</th>\n",
       "      <th>State</th>\n",
       "    </tr>\n",
       "  </thead>\n",
       "  <tbody>\n",
       "    <tr>\n",
       "      <th>0</th>\n",
       "      <td>NEW YORK</td>\n",
       "      <td>8405837</td>\n",
       "      <td>302149</td>\n",
       "      <td>NY</td>\n",
       "    </tr>\n",
       "    <tr>\n",
       "      <th>1</th>\n",
       "      <td>CHICAGO</td>\n",
       "      <td>1955130</td>\n",
       "      <td>164468</td>\n",
       "      <td>IL</td>\n",
       "    </tr>\n",
       "    <tr>\n",
       "      <th>2</th>\n",
       "      <td>LOS ANGELES</td>\n",
       "      <td>1595037</td>\n",
       "      <td>144132</td>\n",
       "      <td>CA</td>\n",
       "    </tr>\n",
       "    <tr>\n",
       "      <th>3</th>\n",
       "      <td>MIAMI</td>\n",
       "      <td>1339155</td>\n",
       "      <td>17675</td>\n",
       "      <td>FL</td>\n",
       "    </tr>\n",
       "    <tr>\n",
       "      <th>4</th>\n",
       "      <td>SILICON VALLEY</td>\n",
       "      <td>1177609</td>\n",
       "      <td>27247</td>\n",
       "      <td>CA</td>\n",
       "    </tr>\n",
       "    <tr>\n",
       "      <th>5</th>\n",
       "      <td>ORANGE COUNTY</td>\n",
       "      <td>1030185</td>\n",
       "      <td>12994</td>\n",
       "      <td>CA</td>\n",
       "    </tr>\n",
       "    <tr>\n",
       "      <th>6</th>\n",
       "      <td>SAN DIEGO</td>\n",
       "      <td>959307</td>\n",
       "      <td>69995</td>\n",
       "      <td>CA</td>\n",
       "    </tr>\n",
       "    <tr>\n",
       "      <th>7</th>\n",
       "      <td>PHOENIX</td>\n",
       "      <td>943999</td>\n",
       "      <td>6133</td>\n",
       "      <td>AZ</td>\n",
       "    </tr>\n",
       "    <tr>\n",
       "      <th>8</th>\n",
       "      <td>DALLAS</td>\n",
       "      <td>942908</td>\n",
       "      <td>22157</td>\n",
       "      <td>TX</td>\n",
       "    </tr>\n",
       "    <tr>\n",
       "      <th>9</th>\n",
       "      <td>ATLANTA</td>\n",
       "      <td>814885</td>\n",
       "      <td>24701</td>\n",
       "      <td>GA</td>\n",
       "    </tr>\n",
       "    <tr>\n",
       "      <th>10</th>\n",
       "      <td>DENVER</td>\n",
       "      <td>754233</td>\n",
       "      <td>12421</td>\n",
       "      <td>CO</td>\n",
       "    </tr>\n",
       "    <tr>\n",
       "      <th>11</th>\n",
       "      <td>AUSTIN</td>\n",
       "      <td>698371</td>\n",
       "      <td>14978</td>\n",
       "      <td>TX</td>\n",
       "    </tr>\n",
       "    <tr>\n",
       "      <th>12</th>\n",
       "      <td>SEATTLE</td>\n",
       "      <td>671238</td>\n",
       "      <td>25063</td>\n",
       "      <td>WA</td>\n",
       "    </tr>\n",
       "    <tr>\n",
       "      <th>13</th>\n",
       "      <td>TUCSON</td>\n",
       "      <td>631442</td>\n",
       "      <td>5712</td>\n",
       "      <td>AZ</td>\n",
       "    </tr>\n",
       "    <tr>\n",
       "      <th>14</th>\n",
       "      <td>SAN FRANCISCO</td>\n",
       "      <td>629591</td>\n",
       "      <td>213609</td>\n",
       "      <td>CA</td>\n",
       "    </tr>\n",
       "    <tr>\n",
       "      <th>15</th>\n",
       "      <td>SACRAMENTO</td>\n",
       "      <td>545776</td>\n",
       "      <td>7044</td>\n",
       "      <td>CA</td>\n",
       "    </tr>\n",
       "    <tr>\n",
       "      <th>16</th>\n",
       "      <td>PITTSBURGH</td>\n",
       "      <td>542085</td>\n",
       "      <td>3643</td>\n",
       "      <td>PA</td>\n",
       "    </tr>\n",
       "    <tr>\n",
       "      <th>17</th>\n",
       "      <td>WASHINGTON</td>\n",
       "      <td>418859</td>\n",
       "      <td>127001</td>\n",
       "      <td>DC</td>\n",
       "    </tr>\n",
       "    <tr>\n",
       "      <th>18</th>\n",
       "      <td>NASHVILLE</td>\n",
       "      <td>327225</td>\n",
       "      <td>9270</td>\n",
       "      <td>TN</td>\n",
       "    </tr>\n",
       "    <tr>\n",
       "      <th>19</th>\n",
       "      <td>BOSTON</td>\n",
       "      <td>248968</td>\n",
       "      <td>80021</td>\n",
       "      <td>MA</td>\n",
       "    </tr>\n",
       "  </tbody>\n",
       "</table>\n",
       "</div>"
      ],
      "text/plain": [
       "              City  Population   Users State\n",
       "0         NEW YORK     8405837  302149    NY\n",
       "1          CHICAGO     1955130  164468    IL\n",
       "2      LOS ANGELES     1595037  144132    CA\n",
       "3            MIAMI     1339155   17675    FL\n",
       "4   SILICON VALLEY     1177609   27247    CA\n",
       "5    ORANGE COUNTY     1030185   12994    CA\n",
       "6        SAN DIEGO      959307   69995    CA\n",
       "7          PHOENIX      943999    6133    AZ\n",
       "8           DALLAS      942908   22157    TX\n",
       "9          ATLANTA      814885   24701    GA\n",
       "10          DENVER      754233   12421    CO\n",
       "11          AUSTIN      698371   14978    TX\n",
       "12         SEATTLE      671238   25063    WA\n",
       "13          TUCSON      631442    5712    AZ\n",
       "14   SAN FRANCISCO      629591  213609    CA\n",
       "15      SACRAMENTO      545776    7044    CA\n",
       "16      PITTSBURGH      542085    3643    PA\n",
       "17      WASHINGTON      418859  127001    DC\n",
       "18       NASHVILLE      327225    9270    TN\n",
       "19          BOSTON      248968   80021    MA"
      ]
     },
     "execution_count": 52,
     "metadata": {},
     "output_type": "execute_result"
    }
   ],
   "source": [
    "city_df.head(20)"
   ]
  },
  {
   "cell_type": "code",
   "execution_count": 53,
   "id": "89968993",
   "metadata": {},
   "outputs": [],
   "source": [
    "#Do the same with master data to split into city and state coloumns\n",
    "df2['State']=df2['City'].copy()"
   ]
  },
  {
   "cell_type": "code",
   "execution_count": 54,
   "id": "b3a96826",
   "metadata": {},
   "outputs": [],
   "source": [
    "State = df2['State'].str[-2:]\n",
    "df2['State'] = State\n",
    "City=df2['City'].str[:-3]\n",
    "df2['City']=City"
   ]
  },
  {
   "cell_type": "code",
   "execution_count": 55,
   "id": "78a966fe",
   "metadata": {},
   "outputs": [],
   "source": [
    "df2[\"City\"].replace({\"SILICON VAL\": \"SILICON VALLEY\", \"ORANGE COU\": \"ORANGE COUNTY\"}, inplace=True)"
   ]
  },
  {
   "cell_type": "code",
   "execution_count": 56,
   "id": "27e85123",
   "metadata": {},
   "outputs": [],
   "source": [
    "df2[\"State\"].replace({\"EY\": \"CA\", \"TY\": \"CA\"}, inplace=True)"
   ]
  },
  {
   "cell_type": "code",
   "execution_count": 57,
   "id": "f85a6161",
   "metadata": {},
   "outputs": [
    {
     "data": {
      "text/html": [
       "<div>\n",
       "<style scoped>\n",
       "    .dataframe tbody tr th:only-of-type {\n",
       "        vertical-align: middle;\n",
       "    }\n",
       "\n",
       "    .dataframe tbody tr th {\n",
       "        vertical-align: top;\n",
       "    }\n",
       "\n",
       "    .dataframe thead th {\n",
       "        text-align: right;\n",
       "    }\n",
       "</style>\n",
       "<table border=\"1\" class=\"dataframe\">\n",
       "  <thead>\n",
       "    <tr style=\"text-align: right;\">\n",
       "      <th></th>\n",
       "      <th>Transaction ID</th>\n",
       "      <th>Date of Travel</th>\n",
       "      <th>Company</th>\n",
       "      <th>City</th>\n",
       "      <th>KM Travelled</th>\n",
       "      <th>Price Charged</th>\n",
       "      <th>Cost of Trip</th>\n",
       "      <th>Customer ID</th>\n",
       "      <th>Payment_Mode</th>\n",
       "      <th>Gender</th>\n",
       "      <th>Age</th>\n",
       "      <th>Income (USD/Month)</th>\n",
       "      <th>State</th>\n",
       "    </tr>\n",
       "  </thead>\n",
       "  <tbody>\n",
       "    <tr>\n",
       "      <th>0</th>\n",
       "      <td>10000011</td>\n",
       "      <td>2016-01-08</td>\n",
       "      <td>Pink Cab</td>\n",
       "      <td>ATLANTA</td>\n",
       "      <td>30.45</td>\n",
       "      <td>370.95</td>\n",
       "      <td>313.6350</td>\n",
       "      <td>29290</td>\n",
       "      <td>Card</td>\n",
       "      <td>Male</td>\n",
       "      <td>28</td>\n",
       "      <td>10813</td>\n",
       "      <td>GA</td>\n",
       "    </tr>\n",
       "    <tr>\n",
       "      <th>1</th>\n",
       "      <td>10351127</td>\n",
       "      <td>2018-07-21</td>\n",
       "      <td>Yellow Cab</td>\n",
       "      <td>ATLANTA</td>\n",
       "      <td>26.19</td>\n",
       "      <td>598.70</td>\n",
       "      <td>317.4228</td>\n",
       "      <td>29290</td>\n",
       "      <td>Cash</td>\n",
       "      <td>Male</td>\n",
       "      <td>28</td>\n",
       "      <td>10813</td>\n",
       "      <td>GA</td>\n",
       "    </tr>\n",
       "    <tr>\n",
       "      <th>2</th>\n",
       "      <td>10412921</td>\n",
       "      <td>2018-11-23</td>\n",
       "      <td>Yellow Cab</td>\n",
       "      <td>ATLANTA</td>\n",
       "      <td>42.55</td>\n",
       "      <td>792.05</td>\n",
       "      <td>597.4020</td>\n",
       "      <td>29290</td>\n",
       "      <td>Card</td>\n",
       "      <td>Male</td>\n",
       "      <td>28</td>\n",
       "      <td>10813</td>\n",
       "      <td>GA</td>\n",
       "    </tr>\n",
       "    <tr>\n",
       "      <th>3</th>\n",
       "      <td>10000012</td>\n",
       "      <td>2016-01-06</td>\n",
       "      <td>Pink Cab</td>\n",
       "      <td>ATLANTA</td>\n",
       "      <td>28.62</td>\n",
       "      <td>358.52</td>\n",
       "      <td>334.8540</td>\n",
       "      <td>27703</td>\n",
       "      <td>Card</td>\n",
       "      <td>Male</td>\n",
       "      <td>27</td>\n",
       "      <td>9237</td>\n",
       "      <td>GA</td>\n",
       "    </tr>\n",
       "    <tr>\n",
       "      <th>4</th>\n",
       "      <td>10320494</td>\n",
       "      <td>2018-04-21</td>\n",
       "      <td>Yellow Cab</td>\n",
       "      <td>ATLANTA</td>\n",
       "      <td>36.38</td>\n",
       "      <td>721.10</td>\n",
       "      <td>467.1192</td>\n",
       "      <td>27703</td>\n",
       "      <td>Card</td>\n",
       "      <td>Male</td>\n",
       "      <td>27</td>\n",
       "      <td>9237</td>\n",
       "      <td>GA</td>\n",
       "    </tr>\n",
       "  </tbody>\n",
       "</table>\n",
       "</div>"
      ],
      "text/plain": [
       "   Transaction ID Date of Travel     Company     City  KM Travelled  \\\n",
       "0        10000011     2016-01-08    Pink Cab  ATLANTA         30.45   \n",
       "1        10351127     2018-07-21  Yellow Cab  ATLANTA         26.19   \n",
       "2        10412921     2018-11-23  Yellow Cab  ATLANTA         42.55   \n",
       "3        10000012     2016-01-06    Pink Cab  ATLANTA         28.62   \n",
       "4        10320494     2018-04-21  Yellow Cab  ATLANTA         36.38   \n",
       "\n",
       "   Price Charged  Cost of Trip  Customer ID Payment_Mode Gender  Age  \\\n",
       "0         370.95      313.6350        29290         Card   Male   28   \n",
       "1         598.70      317.4228        29290         Cash   Male   28   \n",
       "2         792.05      597.4020        29290         Card   Male   28   \n",
       "3         358.52      334.8540        27703         Card   Male   27   \n",
       "4         721.10      467.1192        27703         Card   Male   27   \n",
       "\n",
       "   Income (USD/Month) State  \n",
       "0               10813    GA  \n",
       "1               10813    GA  \n",
       "2               10813    GA  \n",
       "3                9237    GA  \n",
       "4                9237    GA  "
      ]
     },
     "execution_count": 57,
     "metadata": {},
     "output_type": "execute_result"
    }
   ],
   "source": [
    "df2.head()"
   ]
  },
  {
   "cell_type": "code",
   "execution_count": 58,
   "id": "212a8c8a",
   "metadata": {},
   "outputs": [],
   "source": [
    "#Extracting date info from travel_date\n",
    "\n",
    "df2['year'] = df2['Date of Travel'].dt.year\n",
    "df2['month'] = df2['Date of Travel'].dt.month\n",
    "df2['date'] = df2['Date of Travel'].dt.day\n",
    "df2['day_of_week'] = df2['Date of Travel'].dt.dayofweek"
   ]
  },
  {
   "cell_type": "code",
   "execution_count": 59,
   "id": "7c0714fc",
   "metadata": {},
   "outputs": [
    {
     "name": "stdout",
     "output_type": "stream",
     "text": [
      "<class 'pandas.core.frame.DataFrame'>\n",
      "Int64Index: 359392 entries, 0 to 359391\n",
      "Data columns (total 17 columns):\n",
      " #   Column              Non-Null Count   Dtype         \n",
      "---  ------              --------------   -----         \n",
      " 0   Transaction ID      359392 non-null  int64         \n",
      " 1   Date of Travel      359392 non-null  datetime64[ns]\n",
      " 2   Company             359392 non-null  object        \n",
      " 3   City                359392 non-null  object        \n",
      " 4   KM Travelled        359392 non-null  float64       \n",
      " 5   Price Charged       359392 non-null  float64       \n",
      " 6   Cost of Trip        359392 non-null  float64       \n",
      " 7   Customer ID         359392 non-null  int64         \n",
      " 8   Payment_Mode        359392 non-null  object        \n",
      " 9   Gender              359392 non-null  object        \n",
      " 10  Age                 359392 non-null  int64         \n",
      " 11  Income (USD/Month)  359392 non-null  int64         \n",
      " 12  State               359392 non-null  object        \n",
      " 13  year                359392 non-null  int64         \n",
      " 14  month               359392 non-null  int64         \n",
      " 15  date                359392 non-null  int64         \n",
      " 16  day_of_week         359392 non-null  int64         \n",
      "dtypes: datetime64[ns](1), float64(3), int64(8), object(5)\n",
      "memory usage: 49.4+ MB\n"
     ]
    }
   ],
   "source": [
    "df2.info()"
   ]
  },
  {
   "cell_type": "code",
   "execution_count": 60,
   "id": "56b481a3",
   "metadata": {},
   "outputs": [
    {
     "data": {
      "text/plain": [
       "(359392, 17)"
      ]
     },
     "execution_count": 60,
     "metadata": {},
     "output_type": "execute_result"
    }
   ],
   "source": [
    "df2.shape"
   ]
  },
  {
   "cell_type": "code",
   "execution_count": 61,
   "id": "a94ef494",
   "metadata": {},
   "outputs": [
    {
     "data": {
      "text/html": [
       "<div>\n",
       "<style scoped>\n",
       "    .dataframe tbody tr th:only-of-type {\n",
       "        vertical-align: middle;\n",
       "    }\n",
       "\n",
       "    .dataframe tbody tr th {\n",
       "        vertical-align: top;\n",
       "    }\n",
       "\n",
       "    .dataframe thead th {\n",
       "        text-align: right;\n",
       "    }\n",
       "</style>\n",
       "<table border=\"1\" class=\"dataframe\">\n",
       "  <thead>\n",
       "    <tr style=\"text-align: right;\">\n",
       "      <th></th>\n",
       "      <th>Transaction ID</th>\n",
       "      <th>Date of Travel</th>\n",
       "      <th>Company</th>\n",
       "      <th>City</th>\n",
       "      <th>KM Travelled</th>\n",
       "      <th>Price Charged</th>\n",
       "      <th>Cost of Trip</th>\n",
       "      <th>Customer ID</th>\n",
       "      <th>Payment_Mode</th>\n",
       "      <th>Gender</th>\n",
       "      <th>Age</th>\n",
       "      <th>Income (USD/Month)</th>\n",
       "      <th>State</th>\n",
       "      <th>year</th>\n",
       "      <th>month</th>\n",
       "      <th>date</th>\n",
       "      <th>day_of_week</th>\n",
       "    </tr>\n",
       "  </thead>\n",
       "  <tbody>\n",
       "    <tr>\n",
       "      <th>0</th>\n",
       "      <td>10000011</td>\n",
       "      <td>2016-01-08</td>\n",
       "      <td>Pink Cab</td>\n",
       "      <td>ATLANTA</td>\n",
       "      <td>30.45</td>\n",
       "      <td>370.95</td>\n",
       "      <td>313.6350</td>\n",
       "      <td>29290</td>\n",
       "      <td>Card</td>\n",
       "      <td>Male</td>\n",
       "      <td>28</td>\n",
       "      <td>10813</td>\n",
       "      <td>GA</td>\n",
       "      <td>2016</td>\n",
       "      <td>1</td>\n",
       "      <td>8</td>\n",
       "      <td>4</td>\n",
       "    </tr>\n",
       "    <tr>\n",
       "      <th>1</th>\n",
       "      <td>10351127</td>\n",
       "      <td>2018-07-21</td>\n",
       "      <td>Yellow Cab</td>\n",
       "      <td>ATLANTA</td>\n",
       "      <td>26.19</td>\n",
       "      <td>598.70</td>\n",
       "      <td>317.4228</td>\n",
       "      <td>29290</td>\n",
       "      <td>Cash</td>\n",
       "      <td>Male</td>\n",
       "      <td>28</td>\n",
       "      <td>10813</td>\n",
       "      <td>GA</td>\n",
       "      <td>2018</td>\n",
       "      <td>7</td>\n",
       "      <td>21</td>\n",
       "      <td>5</td>\n",
       "    </tr>\n",
       "    <tr>\n",
       "      <th>2</th>\n",
       "      <td>10412921</td>\n",
       "      <td>2018-11-23</td>\n",
       "      <td>Yellow Cab</td>\n",
       "      <td>ATLANTA</td>\n",
       "      <td>42.55</td>\n",
       "      <td>792.05</td>\n",
       "      <td>597.4020</td>\n",
       "      <td>29290</td>\n",
       "      <td>Card</td>\n",
       "      <td>Male</td>\n",
       "      <td>28</td>\n",
       "      <td>10813</td>\n",
       "      <td>GA</td>\n",
       "      <td>2018</td>\n",
       "      <td>11</td>\n",
       "      <td>23</td>\n",
       "      <td>4</td>\n",
       "    </tr>\n",
       "    <tr>\n",
       "      <th>3</th>\n",
       "      <td>10000012</td>\n",
       "      <td>2016-01-06</td>\n",
       "      <td>Pink Cab</td>\n",
       "      <td>ATLANTA</td>\n",
       "      <td>28.62</td>\n",
       "      <td>358.52</td>\n",
       "      <td>334.8540</td>\n",
       "      <td>27703</td>\n",
       "      <td>Card</td>\n",
       "      <td>Male</td>\n",
       "      <td>27</td>\n",
       "      <td>9237</td>\n",
       "      <td>GA</td>\n",
       "      <td>2016</td>\n",
       "      <td>1</td>\n",
       "      <td>6</td>\n",
       "      <td>2</td>\n",
       "    </tr>\n",
       "    <tr>\n",
       "      <th>4</th>\n",
       "      <td>10320494</td>\n",
       "      <td>2018-04-21</td>\n",
       "      <td>Yellow Cab</td>\n",
       "      <td>ATLANTA</td>\n",
       "      <td>36.38</td>\n",
       "      <td>721.10</td>\n",
       "      <td>467.1192</td>\n",
       "      <td>27703</td>\n",
       "      <td>Card</td>\n",
       "      <td>Male</td>\n",
       "      <td>27</td>\n",
       "      <td>9237</td>\n",
       "      <td>GA</td>\n",
       "      <td>2018</td>\n",
       "      <td>4</td>\n",
       "      <td>21</td>\n",
       "      <td>5</td>\n",
       "    </tr>\n",
       "  </tbody>\n",
       "</table>\n",
       "</div>"
      ],
      "text/plain": [
       "   Transaction ID Date of Travel     Company     City  KM Travelled  \\\n",
       "0        10000011     2016-01-08    Pink Cab  ATLANTA         30.45   \n",
       "1        10351127     2018-07-21  Yellow Cab  ATLANTA         26.19   \n",
       "2        10412921     2018-11-23  Yellow Cab  ATLANTA         42.55   \n",
       "3        10000012     2016-01-06    Pink Cab  ATLANTA         28.62   \n",
       "4        10320494     2018-04-21  Yellow Cab  ATLANTA         36.38   \n",
       "\n",
       "   Price Charged  Cost of Trip  Customer ID Payment_Mode Gender  Age  \\\n",
       "0         370.95      313.6350        29290         Card   Male   28   \n",
       "1         598.70      317.4228        29290         Cash   Male   28   \n",
       "2         792.05      597.4020        29290         Card   Male   28   \n",
       "3         358.52      334.8540        27703         Card   Male   27   \n",
       "4         721.10      467.1192        27703         Card   Male   27   \n",
       "\n",
       "   Income (USD/Month) State  year  month  date  day_of_week  \n",
       "0               10813    GA  2016      1     8            4  \n",
       "1               10813    GA  2018      7    21            5  \n",
       "2               10813    GA  2018     11    23            4  \n",
       "3                9237    GA  2016      1     6            2  \n",
       "4                9237    GA  2018      4    21            5  "
      ]
     },
     "execution_count": 61,
     "metadata": {},
     "output_type": "execute_result"
    }
   ],
   "source": [
    "df2.head()"
   ]
  },
  {
   "cell_type": "code",
   "execution_count": 64,
   "id": "2f4cdfd5",
   "metadata": {},
   "outputs": [],
   "source": [
    "df2.rename(columns = {'Payment_Mode' : 'Payment Mode'}, inplace = True)"
   ]
  },
  {
   "cell_type": "code",
   "execution_count": 65,
   "id": "6864ad99",
   "metadata": {},
   "outputs": [
    {
     "data": {
      "text/html": [
       "<div>\n",
       "<style scoped>\n",
       "    .dataframe tbody tr th:only-of-type {\n",
       "        vertical-align: middle;\n",
       "    }\n",
       "\n",
       "    .dataframe tbody tr th {\n",
       "        vertical-align: top;\n",
       "    }\n",
       "\n",
       "    .dataframe thead th {\n",
       "        text-align: right;\n",
       "    }\n",
       "</style>\n",
       "<table border=\"1\" class=\"dataframe\">\n",
       "  <thead>\n",
       "    <tr style=\"text-align: right;\">\n",
       "      <th></th>\n",
       "      <th>Transaction ID</th>\n",
       "      <th>Date of Travel</th>\n",
       "      <th>Company</th>\n",
       "      <th>City</th>\n",
       "      <th>KM Travelled</th>\n",
       "      <th>Price Charged</th>\n",
       "      <th>Cost of Trip</th>\n",
       "      <th>Customer ID</th>\n",
       "      <th>Payment Mode</th>\n",
       "      <th>Gender</th>\n",
       "      <th>Age</th>\n",
       "      <th>Income (USD/Month)</th>\n",
       "      <th>State</th>\n",
       "      <th>year</th>\n",
       "      <th>month</th>\n",
       "      <th>date</th>\n",
       "      <th>day_of_week</th>\n",
       "    </tr>\n",
       "  </thead>\n",
       "  <tbody>\n",
       "    <tr>\n",
       "      <th>0</th>\n",
       "      <td>10000011</td>\n",
       "      <td>2016-01-08</td>\n",
       "      <td>Pink Cab</td>\n",
       "      <td>ATLANTA</td>\n",
       "      <td>30.45</td>\n",
       "      <td>370.95</td>\n",
       "      <td>313.6350</td>\n",
       "      <td>29290</td>\n",
       "      <td>Card</td>\n",
       "      <td>Male</td>\n",
       "      <td>28</td>\n",
       "      <td>10813</td>\n",
       "      <td>GA</td>\n",
       "      <td>2016</td>\n",
       "      <td>1</td>\n",
       "      <td>8</td>\n",
       "      <td>4</td>\n",
       "    </tr>\n",
       "    <tr>\n",
       "      <th>1</th>\n",
       "      <td>10351127</td>\n",
       "      <td>2018-07-21</td>\n",
       "      <td>Yellow Cab</td>\n",
       "      <td>ATLANTA</td>\n",
       "      <td>26.19</td>\n",
       "      <td>598.70</td>\n",
       "      <td>317.4228</td>\n",
       "      <td>29290</td>\n",
       "      <td>Cash</td>\n",
       "      <td>Male</td>\n",
       "      <td>28</td>\n",
       "      <td>10813</td>\n",
       "      <td>GA</td>\n",
       "      <td>2018</td>\n",
       "      <td>7</td>\n",
       "      <td>21</td>\n",
       "      <td>5</td>\n",
       "    </tr>\n",
       "    <tr>\n",
       "      <th>2</th>\n",
       "      <td>10412921</td>\n",
       "      <td>2018-11-23</td>\n",
       "      <td>Yellow Cab</td>\n",
       "      <td>ATLANTA</td>\n",
       "      <td>42.55</td>\n",
       "      <td>792.05</td>\n",
       "      <td>597.4020</td>\n",
       "      <td>29290</td>\n",
       "      <td>Card</td>\n",
       "      <td>Male</td>\n",
       "      <td>28</td>\n",
       "      <td>10813</td>\n",
       "      <td>GA</td>\n",
       "      <td>2018</td>\n",
       "      <td>11</td>\n",
       "      <td>23</td>\n",
       "      <td>4</td>\n",
       "    </tr>\n",
       "    <tr>\n",
       "      <th>3</th>\n",
       "      <td>10000012</td>\n",
       "      <td>2016-01-06</td>\n",
       "      <td>Pink Cab</td>\n",
       "      <td>ATLANTA</td>\n",
       "      <td>28.62</td>\n",
       "      <td>358.52</td>\n",
       "      <td>334.8540</td>\n",
       "      <td>27703</td>\n",
       "      <td>Card</td>\n",
       "      <td>Male</td>\n",
       "      <td>27</td>\n",
       "      <td>9237</td>\n",
       "      <td>GA</td>\n",
       "      <td>2016</td>\n",
       "      <td>1</td>\n",
       "      <td>6</td>\n",
       "      <td>2</td>\n",
       "    </tr>\n",
       "    <tr>\n",
       "      <th>4</th>\n",
       "      <td>10320494</td>\n",
       "      <td>2018-04-21</td>\n",
       "      <td>Yellow Cab</td>\n",
       "      <td>ATLANTA</td>\n",
       "      <td>36.38</td>\n",
       "      <td>721.10</td>\n",
       "      <td>467.1192</td>\n",
       "      <td>27703</td>\n",
       "      <td>Card</td>\n",
       "      <td>Male</td>\n",
       "      <td>27</td>\n",
       "      <td>9237</td>\n",
       "      <td>GA</td>\n",
       "      <td>2018</td>\n",
       "      <td>4</td>\n",
       "      <td>21</td>\n",
       "      <td>5</td>\n",
       "    </tr>\n",
       "  </tbody>\n",
       "</table>\n",
       "</div>"
      ],
      "text/plain": [
       "   Transaction ID Date of Travel     Company     City  KM Travelled  \\\n",
       "0        10000011     2016-01-08    Pink Cab  ATLANTA         30.45   \n",
       "1        10351127     2018-07-21  Yellow Cab  ATLANTA         26.19   \n",
       "2        10412921     2018-11-23  Yellow Cab  ATLANTA         42.55   \n",
       "3        10000012     2016-01-06    Pink Cab  ATLANTA         28.62   \n",
       "4        10320494     2018-04-21  Yellow Cab  ATLANTA         36.38   \n",
       "\n",
       "   Price Charged  Cost of Trip  Customer ID Payment Mode Gender  Age  \\\n",
       "0         370.95      313.6350        29290         Card   Male   28   \n",
       "1         598.70      317.4228        29290         Cash   Male   28   \n",
       "2         792.05      597.4020        29290         Card   Male   28   \n",
       "3         358.52      334.8540        27703         Card   Male   27   \n",
       "4         721.10      467.1192        27703         Card   Male   27   \n",
       "\n",
       "   Income (USD/Month) State  year  month  date  day_of_week  \n",
       "0               10813    GA  2016      1     8            4  \n",
       "1               10813    GA  2018      7    21            5  \n",
       "2               10813    GA  2018     11    23            4  \n",
       "3                9237    GA  2016      1     6            2  \n",
       "4                9237    GA  2018      4    21            5  "
      ]
     },
     "execution_count": 65,
     "metadata": {},
     "output_type": "execute_result"
    }
   ],
   "source": [
    "df2.head()"
   ]
  },
  {
   "cell_type": "code",
   "execution_count": 66,
   "id": "2aa7482c",
   "metadata": {},
   "outputs": [],
   "source": [
    "df2['Profit']=df2['Price Charged']-df2['Cost of Trip']"
   ]
  },
  {
   "cell_type": "code",
   "execution_count": 67,
   "id": "52f74e50",
   "metadata": {},
   "outputs": [],
   "source": [
    "df2['Price per KM']=df2['Price Charged']/df2['KM Travelled']"
   ]
  },
  {
   "cell_type": "code",
   "execution_count": 68,
   "id": "2150d225",
   "metadata": {},
   "outputs": [
    {
     "data": {
      "text/html": [
       "<div>\n",
       "<style scoped>\n",
       "    .dataframe tbody tr th:only-of-type {\n",
       "        vertical-align: middle;\n",
       "    }\n",
       "\n",
       "    .dataframe tbody tr th {\n",
       "        vertical-align: top;\n",
       "    }\n",
       "\n",
       "    .dataframe thead th {\n",
       "        text-align: right;\n",
       "    }\n",
       "</style>\n",
       "<table border=\"1\" class=\"dataframe\">\n",
       "  <thead>\n",
       "    <tr style=\"text-align: right;\">\n",
       "      <th></th>\n",
       "      <th>Transaction ID</th>\n",
       "      <th>Date of Travel</th>\n",
       "      <th>Company</th>\n",
       "      <th>City</th>\n",
       "      <th>KM Travelled</th>\n",
       "      <th>Price Charged</th>\n",
       "      <th>Cost of Trip</th>\n",
       "      <th>Customer ID</th>\n",
       "      <th>Payment Mode</th>\n",
       "      <th>Gender</th>\n",
       "      <th>Age</th>\n",
       "      <th>Income (USD/Month)</th>\n",
       "      <th>State</th>\n",
       "      <th>year</th>\n",
       "      <th>month</th>\n",
       "      <th>date</th>\n",
       "      <th>day_of_week</th>\n",
       "      <th>Profit</th>\n",
       "      <th>Price per KM</th>\n",
       "    </tr>\n",
       "  </thead>\n",
       "  <tbody>\n",
       "    <tr>\n",
       "      <th>0</th>\n",
       "      <td>10000011</td>\n",
       "      <td>2016-01-08</td>\n",
       "      <td>Pink Cab</td>\n",
       "      <td>ATLANTA</td>\n",
       "      <td>30.45</td>\n",
       "      <td>370.95</td>\n",
       "      <td>313.6350</td>\n",
       "      <td>29290</td>\n",
       "      <td>Card</td>\n",
       "      <td>Male</td>\n",
       "      <td>28</td>\n",
       "      <td>10813</td>\n",
       "      <td>GA</td>\n",
       "      <td>2016</td>\n",
       "      <td>1</td>\n",
       "      <td>8</td>\n",
       "      <td>4</td>\n",
       "      <td>57.3150</td>\n",
       "      <td>12.182266</td>\n",
       "    </tr>\n",
       "    <tr>\n",
       "      <th>1</th>\n",
       "      <td>10351127</td>\n",
       "      <td>2018-07-21</td>\n",
       "      <td>Yellow Cab</td>\n",
       "      <td>ATLANTA</td>\n",
       "      <td>26.19</td>\n",
       "      <td>598.70</td>\n",
       "      <td>317.4228</td>\n",
       "      <td>29290</td>\n",
       "      <td>Cash</td>\n",
       "      <td>Male</td>\n",
       "      <td>28</td>\n",
       "      <td>10813</td>\n",
       "      <td>GA</td>\n",
       "      <td>2018</td>\n",
       "      <td>7</td>\n",
       "      <td>21</td>\n",
       "      <td>5</td>\n",
       "      <td>281.2772</td>\n",
       "      <td>22.859870</td>\n",
       "    </tr>\n",
       "    <tr>\n",
       "      <th>2</th>\n",
       "      <td>10412921</td>\n",
       "      <td>2018-11-23</td>\n",
       "      <td>Yellow Cab</td>\n",
       "      <td>ATLANTA</td>\n",
       "      <td>42.55</td>\n",
       "      <td>792.05</td>\n",
       "      <td>597.4020</td>\n",
       "      <td>29290</td>\n",
       "      <td>Card</td>\n",
       "      <td>Male</td>\n",
       "      <td>28</td>\n",
       "      <td>10813</td>\n",
       "      <td>GA</td>\n",
       "      <td>2018</td>\n",
       "      <td>11</td>\n",
       "      <td>23</td>\n",
       "      <td>4</td>\n",
       "      <td>194.6480</td>\n",
       "      <td>18.614571</td>\n",
       "    </tr>\n",
       "    <tr>\n",
       "      <th>3</th>\n",
       "      <td>10000012</td>\n",
       "      <td>2016-01-06</td>\n",
       "      <td>Pink Cab</td>\n",
       "      <td>ATLANTA</td>\n",
       "      <td>28.62</td>\n",
       "      <td>358.52</td>\n",
       "      <td>334.8540</td>\n",
       "      <td>27703</td>\n",
       "      <td>Card</td>\n",
       "      <td>Male</td>\n",
       "      <td>27</td>\n",
       "      <td>9237</td>\n",
       "      <td>GA</td>\n",
       "      <td>2016</td>\n",
       "      <td>1</td>\n",
       "      <td>6</td>\n",
       "      <td>2</td>\n",
       "      <td>23.6660</td>\n",
       "      <td>12.526904</td>\n",
       "    </tr>\n",
       "    <tr>\n",
       "      <th>4</th>\n",
       "      <td>10320494</td>\n",
       "      <td>2018-04-21</td>\n",
       "      <td>Yellow Cab</td>\n",
       "      <td>ATLANTA</td>\n",
       "      <td>36.38</td>\n",
       "      <td>721.10</td>\n",
       "      <td>467.1192</td>\n",
       "      <td>27703</td>\n",
       "      <td>Card</td>\n",
       "      <td>Male</td>\n",
       "      <td>27</td>\n",
       "      <td>9237</td>\n",
       "      <td>GA</td>\n",
       "      <td>2018</td>\n",
       "      <td>4</td>\n",
       "      <td>21</td>\n",
       "      <td>5</td>\n",
       "      <td>253.9808</td>\n",
       "      <td>19.821330</td>\n",
       "    </tr>\n",
       "  </tbody>\n",
       "</table>\n",
       "</div>"
      ],
      "text/plain": [
       "   Transaction ID Date of Travel     Company     City  KM Travelled  \\\n",
       "0        10000011     2016-01-08    Pink Cab  ATLANTA         30.45   \n",
       "1        10351127     2018-07-21  Yellow Cab  ATLANTA         26.19   \n",
       "2        10412921     2018-11-23  Yellow Cab  ATLANTA         42.55   \n",
       "3        10000012     2016-01-06    Pink Cab  ATLANTA         28.62   \n",
       "4        10320494     2018-04-21  Yellow Cab  ATLANTA         36.38   \n",
       "\n",
       "   Price Charged  Cost of Trip  Customer ID Payment Mode Gender  Age  \\\n",
       "0         370.95      313.6350        29290         Card   Male   28   \n",
       "1         598.70      317.4228        29290         Cash   Male   28   \n",
       "2         792.05      597.4020        29290         Card   Male   28   \n",
       "3         358.52      334.8540        27703         Card   Male   27   \n",
       "4         721.10      467.1192        27703         Card   Male   27   \n",
       "\n",
       "   Income (USD/Month) State  year  month  date  day_of_week    Profit  \\\n",
       "0               10813    GA  2016      1     8            4   57.3150   \n",
       "1               10813    GA  2018      7    21            5  281.2772   \n",
       "2               10813    GA  2018     11    23            4  194.6480   \n",
       "3                9237    GA  2016      1     6            2   23.6660   \n",
       "4                9237    GA  2018      4    21            5  253.9808   \n",
       "\n",
       "   Price per KM  \n",
       "0     12.182266  \n",
       "1     22.859870  \n",
       "2     18.614571  \n",
       "3     12.526904  \n",
       "4     19.821330  "
      ]
     },
     "execution_count": 68,
     "metadata": {},
     "output_type": "execute_result"
    }
   ],
   "source": [
    "df2.head()"
   ]
  },
  {
   "cell_type": "code",
   "execution_count": 69,
   "id": "8b36b3aa",
   "metadata": {},
   "outputs": [
    {
     "name": "stdout",
     "output_type": "stream",
     "text": [
      "<class 'pandas.core.frame.DataFrame'>\n",
      "Int64Index: 359392 entries, 0 to 359391\n",
      "Data columns (total 19 columns):\n",
      " #   Column              Non-Null Count   Dtype         \n",
      "---  ------              --------------   -----         \n",
      " 0   Transaction ID      359392 non-null  int64         \n",
      " 1   Date of Travel      359392 non-null  datetime64[ns]\n",
      " 2   Company             359392 non-null  object        \n",
      " 3   City                359392 non-null  object        \n",
      " 4   KM Travelled        359392 non-null  float64       \n",
      " 5   Price Charged       359392 non-null  float64       \n",
      " 6   Cost of Trip        359392 non-null  float64       \n",
      " 7   Customer ID         359392 non-null  int64         \n",
      " 8   Payment Mode        359392 non-null  object        \n",
      " 9   Gender              359392 non-null  object        \n",
      " 10  Age                 359392 non-null  int64         \n",
      " 11  Income (USD/Month)  359392 non-null  int64         \n",
      " 12  State               359392 non-null  object        \n",
      " 13  year                359392 non-null  int64         \n",
      " 14  month               359392 non-null  int64         \n",
      " 15  date                359392 non-null  int64         \n",
      " 16  day_of_week         359392 non-null  int64         \n",
      " 17  Profit              359392 non-null  float64       \n",
      " 18  Price per KM        359392 non-null  float64       \n",
      "dtypes: datetime64[ns](1), float64(5), int64(8), object(5)\n",
      "memory usage: 54.8+ MB\n"
     ]
    }
   ],
   "source": [
    "df2.info()"
   ]
  },
  {
   "cell_type": "code",
   "execution_count": 70,
   "id": "ee1398ab",
   "metadata": {},
   "outputs": [
    {
     "data": {
      "text/plain": [
       "array(['Pink Cab', 'Yellow Cab'], dtype=object)"
      ]
     },
     "execution_count": 70,
     "metadata": {},
     "output_type": "execute_result"
    }
   ],
   "source": [
    "df2['Company'].unique()"
   ]
  },
  {
   "cell_type": "code",
   "execution_count": 71,
   "id": "c6cbc44d",
   "metadata": {},
   "outputs": [
    {
     "data": {
      "text/plain": [
       "array(['Card', 'Cash'], dtype=object)"
      ]
     },
     "execution_count": 71,
     "metadata": {},
     "output_type": "execute_result"
    }
   ],
   "source": [
    "df2['Payment Mode'].unique()"
   ]
  },
  {
   "cell_type": "code",
   "execution_count": 72,
   "id": "2d296123",
   "metadata": {},
   "outputs": [
    {
     "data": {
      "text/plain": [
       "array(['Male', 'Female'], dtype=object)"
      ]
     },
     "execution_count": 72,
     "metadata": {},
     "output_type": "execute_result"
    }
   ],
   "source": [
    "df2['Gender'].unique()"
   ]
  },
  {
   "cell_type": "code",
   "execution_count": 73,
   "id": "cccaef8b",
   "metadata": {},
   "outputs": [
    {
     "data": {
      "text/plain": [
       "Yellow Cab    274681\n",
       "Pink Cab       84711\n",
       "Name: Company, dtype: int64"
      ]
     },
     "execution_count": 73,
     "metadata": {},
     "output_type": "execute_result"
    }
   ],
   "source": [
    "df2.Company.value_counts()"
   ]
  },
  {
   "cell_type": "code",
   "execution_count": 74,
   "id": "d3162b5e",
   "metadata": {},
   "outputs": [
    {
     "data": {
      "text/plain": [
       "Male      205912\n",
       "Female    153480\n",
       "Name: Gender, dtype: int64"
      ]
     },
     "execution_count": 74,
     "metadata": {},
     "output_type": "execute_result"
    }
   ],
   "source": [
    "df2.Gender.value_counts()"
   ]
  },
  {
   "cell_type": "code",
   "execution_count": 76,
   "id": "fff3eb3a",
   "metadata": {},
   "outputs": [
    {
     "data": {
      "text/plain": [
       "Card    215504\n",
       "Cash    143888\n",
       "Name: Payment Mode, dtype: int64"
      ]
     },
     "execution_count": 76,
     "metadata": {},
     "output_type": "execute_result"
    }
   ],
   "source": [
    "df2['Payment Mode'].value_counts()"
   ]
  },
  {
   "cell_type": "code",
   "execution_count": 77,
   "id": "10fb7c25",
   "metadata": {},
   "outputs": [
    {
     "data": {
      "text/plain": [
       "NEW YORK          99885\n",
       "CHICAGO           56625\n",
       "LOS ANGELES       48033\n",
       "WASHINGTON        43737\n",
       "BOSTON            29692\n",
       "SAN DIEGO         20488\n",
       "SILICON VALLEY     8519\n",
       "SEATTLE            7997\n",
       "ATLANTA            7557\n",
       "DALLAS             7017\n",
       "MIAMI              6454\n",
       "AUSTIN             4896\n",
       "ORANGE COUNTY      3982\n",
       "DENVER             3825\n",
       "NASHVILLE          3010\n",
       "SACRAMENTO         2367\n",
       "PHOENIX            2064\n",
       "TUCSON             1931\n",
       "PITTSBURGH         1313\n",
       "Name: City, dtype: int64"
      ]
     },
     "execution_count": 77,
     "metadata": {},
     "output_type": "execute_result"
    }
   ],
   "source": [
    "df2.City.value_counts()"
   ]
  },
  {
   "cell_type": "code",
   "execution_count": 78,
   "id": "f36274d9",
   "metadata": {},
   "outputs": [
    {
     "data": {
      "text/plain": [
       "NY    99885\n",
       "CA    83389\n",
       "IL    56625\n",
       "DC    43737\n",
       "MA    29692\n",
       "TX    11913\n",
       "WA     7997\n",
       "GA     7557\n",
       "FL     6454\n",
       "AZ     3995\n",
       "CO     3825\n",
       "TN     3010\n",
       "PA     1313\n",
       "Name: State, dtype: int64"
      ]
     },
     "execution_count": 78,
     "metadata": {},
     "output_type": "execute_result"
    }
   ],
   "source": [
    "df2.State.value_counts()"
   ]
  },
  {
   "cell_type": "code",
   "execution_count": 80,
   "id": "d2aae487",
   "metadata": {},
   "outputs": [
    {
     "data": {
      "text/html": [
       "<div>\n",
       "<style scoped>\n",
       "    .dataframe tbody tr th:only-of-type {\n",
       "        vertical-align: middle;\n",
       "    }\n",
       "\n",
       "    .dataframe tbody tr th {\n",
       "        vertical-align: top;\n",
       "    }\n",
       "\n",
       "    .dataframe thead th {\n",
       "        text-align: right;\n",
       "    }\n",
       "</style>\n",
       "<table border=\"1\" class=\"dataframe\">\n",
       "  <thead>\n",
       "    <tr style=\"text-align: right;\">\n",
       "      <th></th>\n",
       "      <th>count</th>\n",
       "      <th>mean</th>\n",
       "      <th>std</th>\n",
       "      <th>min</th>\n",
       "      <th>25%</th>\n",
       "      <th>50%</th>\n",
       "      <th>75%</th>\n",
       "      <th>max</th>\n",
       "    </tr>\n",
       "  </thead>\n",
       "  <tbody>\n",
       "    <tr>\n",
       "      <th>Transaction ID</th>\n",
       "      <td>359392.0</td>\n",
       "      <td>1.022076e+07</td>\n",
       "      <td>126805.803715</td>\n",
       "      <td>1.000001e+07</td>\n",
       "      <td>1.011081e+07</td>\n",
       "      <td>1.022104e+07</td>\n",
       "      <td>1.033094e+07</td>\n",
       "      <td>1.044011e+07</td>\n",
       "    </tr>\n",
       "    <tr>\n",
       "      <th>KM Travelled</th>\n",
       "      <td>359392.0</td>\n",
       "      <td>2.256725e+01</td>\n",
       "      <td>12.233526</td>\n",
       "      <td>1.900000e+00</td>\n",
       "      <td>1.200000e+01</td>\n",
       "      <td>2.244000e+01</td>\n",
       "      <td>3.296000e+01</td>\n",
       "      <td>4.800000e+01</td>\n",
       "    </tr>\n",
       "    <tr>\n",
       "      <th>Price Charged</th>\n",
       "      <td>359392.0</td>\n",
       "      <td>4.234433e+02</td>\n",
       "      <td>274.378911</td>\n",
       "      <td>1.560000e+01</td>\n",
       "      <td>2.064375e+02</td>\n",
       "      <td>3.863600e+02</td>\n",
       "      <td>5.836600e+02</td>\n",
       "      <td>2.048030e+03</td>\n",
       "    </tr>\n",
       "    <tr>\n",
       "      <th>Cost of Trip</th>\n",
       "      <td>359392.0</td>\n",
       "      <td>2.861901e+02</td>\n",
       "      <td>157.993661</td>\n",
       "      <td>1.900000e+01</td>\n",
       "      <td>1.512000e+02</td>\n",
       "      <td>2.824800e+02</td>\n",
       "      <td>4.136832e+02</td>\n",
       "      <td>6.912000e+02</td>\n",
       "    </tr>\n",
       "    <tr>\n",
       "      <th>Customer ID</th>\n",
       "      <td>359392.0</td>\n",
       "      <td>1.919165e+04</td>\n",
       "      <td>21012.412463</td>\n",
       "      <td>1.000000e+00</td>\n",
       "      <td>2.705000e+03</td>\n",
       "      <td>7.459000e+03</td>\n",
       "      <td>3.607800e+04</td>\n",
       "      <td>6.000000e+04</td>\n",
       "    </tr>\n",
       "    <tr>\n",
       "      <th>Age</th>\n",
       "      <td>359392.0</td>\n",
       "      <td>3.533670e+01</td>\n",
       "      <td>12.594234</td>\n",
       "      <td>1.800000e+01</td>\n",
       "      <td>2.500000e+01</td>\n",
       "      <td>3.300000e+01</td>\n",
       "      <td>4.200000e+01</td>\n",
       "      <td>6.500000e+01</td>\n",
       "    </tr>\n",
       "    <tr>\n",
       "      <th>Income (USD/Month)</th>\n",
       "      <td>359392.0</td>\n",
       "      <td>1.504882e+04</td>\n",
       "      <td>7969.409482</td>\n",
       "      <td>2.000000e+03</td>\n",
       "      <td>8.424000e+03</td>\n",
       "      <td>1.468500e+04</td>\n",
       "      <td>2.103500e+04</td>\n",
       "      <td>3.500000e+04</td>\n",
       "    </tr>\n",
       "    <tr>\n",
       "      <th>year</th>\n",
       "      <td>359392.0</td>\n",
       "      <td>2.017045e+03</td>\n",
       "      <td>0.800239</td>\n",
       "      <td>2.016000e+03</td>\n",
       "      <td>2.016000e+03</td>\n",
       "      <td>2.017000e+03</td>\n",
       "      <td>2.018000e+03</td>\n",
       "      <td>2.018000e+03</td>\n",
       "    </tr>\n",
       "    <tr>\n",
       "      <th>month</th>\n",
       "      <td>359392.0</td>\n",
       "      <td>7.500434e+00</td>\n",
       "      <td>3.445095</td>\n",
       "      <td>1.000000e+00</td>\n",
       "      <td>5.000000e+00</td>\n",
       "      <td>8.000000e+00</td>\n",
       "      <td>1.000000e+01</td>\n",
       "      <td>1.200000e+01</td>\n",
       "    </tr>\n",
       "    <tr>\n",
       "      <th>date</th>\n",
       "      <td>359392.0</td>\n",
       "      <td>1.562845e+01</td>\n",
       "      <td>8.827151</td>\n",
       "      <td>1.000000e+00</td>\n",
       "      <td>8.000000e+00</td>\n",
       "      <td>1.600000e+01</td>\n",
       "      <td>2.300000e+01</td>\n",
       "      <td>3.100000e+01</td>\n",
       "    </tr>\n",
       "    <tr>\n",
       "      <th>day_of_week</th>\n",
       "      <td>359392.0</td>\n",
       "      <td>3.750620e+00</td>\n",
       "      <td>1.858849</td>\n",
       "      <td>0.000000e+00</td>\n",
       "      <td>3.000000e+00</td>\n",
       "      <td>4.000000e+00</td>\n",
       "      <td>5.000000e+00</td>\n",
       "      <td>6.000000e+00</td>\n",
       "    </tr>\n",
       "    <tr>\n",
       "      <th>Profit</th>\n",
       "      <td>359392.0</td>\n",
       "      <td>1.372532e+02</td>\n",
       "      <td>160.311840</td>\n",
       "      <td>-2.200600e+02</td>\n",
       "      <td>2.801200e+01</td>\n",
       "      <td>8.196200e+01</td>\n",
       "      <td>1.900300e+02</td>\n",
       "      <td>1.463966e+03</td>\n",
       "    </tr>\n",
       "    <tr>\n",
       "      <th>Price per KM</th>\n",
       "      <td>359392.0</td>\n",
       "      <td>1.876513e+01</td>\n",
       "      <td>5.878560</td>\n",
       "      <td>6.338621e+00</td>\n",
       "      <td>1.445133e+01</td>\n",
       "      <td>1.715350e+01</td>\n",
       "      <td>2.223493e+01</td>\n",
       "      <td>5.395556e+01</td>\n",
       "    </tr>\n",
       "  </tbody>\n",
       "</table>\n",
       "</div>"
      ],
      "text/plain": [
       "                       count          mean            std           min  \\\n",
       "Transaction ID      359392.0  1.022076e+07  126805.803715  1.000001e+07   \n",
       "KM Travelled        359392.0  2.256725e+01      12.233526  1.900000e+00   \n",
       "Price Charged       359392.0  4.234433e+02     274.378911  1.560000e+01   \n",
       "Cost of Trip        359392.0  2.861901e+02     157.993661  1.900000e+01   \n",
       "Customer ID         359392.0  1.919165e+04   21012.412463  1.000000e+00   \n",
       "Age                 359392.0  3.533670e+01      12.594234  1.800000e+01   \n",
       "Income (USD/Month)  359392.0  1.504882e+04    7969.409482  2.000000e+03   \n",
       "year                359392.0  2.017045e+03       0.800239  2.016000e+03   \n",
       "month               359392.0  7.500434e+00       3.445095  1.000000e+00   \n",
       "date                359392.0  1.562845e+01       8.827151  1.000000e+00   \n",
       "day_of_week         359392.0  3.750620e+00       1.858849  0.000000e+00   \n",
       "Profit              359392.0  1.372532e+02     160.311840 -2.200600e+02   \n",
       "Price per KM        359392.0  1.876513e+01       5.878560  6.338621e+00   \n",
       "\n",
       "                             25%           50%           75%           max  \n",
       "Transaction ID      1.011081e+07  1.022104e+07  1.033094e+07  1.044011e+07  \n",
       "KM Travelled        1.200000e+01  2.244000e+01  3.296000e+01  4.800000e+01  \n",
       "Price Charged       2.064375e+02  3.863600e+02  5.836600e+02  2.048030e+03  \n",
       "Cost of Trip        1.512000e+02  2.824800e+02  4.136832e+02  6.912000e+02  \n",
       "Customer ID         2.705000e+03  7.459000e+03  3.607800e+04  6.000000e+04  \n",
       "Age                 2.500000e+01  3.300000e+01  4.200000e+01  6.500000e+01  \n",
       "Income (USD/Month)  8.424000e+03  1.468500e+04  2.103500e+04  3.500000e+04  \n",
       "year                2.016000e+03  2.017000e+03  2.018000e+03  2.018000e+03  \n",
       "month               5.000000e+00  8.000000e+00  1.000000e+01  1.200000e+01  \n",
       "date                8.000000e+00  1.600000e+01  2.300000e+01  3.100000e+01  \n",
       "day_of_week         3.000000e+00  4.000000e+00  5.000000e+00  6.000000e+00  \n",
       "Profit              2.801200e+01  8.196200e+01  1.900300e+02  1.463966e+03  \n",
       "Price per KM        1.445133e+01  1.715350e+01  2.223493e+01  5.395556e+01  "
      ]
     },
     "execution_count": 80,
     "metadata": {},
     "output_type": "execute_result"
    }
   ],
   "source": [
    "df2.describe().T"
   ]
  },
  {
   "cell_type": "code",
   "execution_count": 101,
   "id": "c4b96b34",
   "metadata": {},
   "outputs": [],
   "source": [
    "#Convert the coloumns Age and Income into catagorical values\n",
    "\n",
    "def age_to_category(age):\n",
    "    if age <= 35:\n",
    "        return \"Young Age\"\n",
    "    elif age <= 55:\n",
    "        return \"Middle Age\"\n",
    "    else:\n",
    "        return \"Senior Citizens\"\n",
    "    \n",
    "    \n",
    "df2['Age']=df2['Age'].apply(age_to_category)"
   ]
  },
  {
   "cell_type": "code",
   "execution_count": 102,
   "id": "4f95156f",
   "metadata": {},
   "outputs": [
    {
     "data": {
      "text/html": [
       "<div>\n",
       "<style scoped>\n",
       "    .dataframe tbody tr th:only-of-type {\n",
       "        vertical-align: middle;\n",
       "    }\n",
       "\n",
       "    .dataframe tbody tr th {\n",
       "        vertical-align: top;\n",
       "    }\n",
       "\n",
       "    .dataframe thead th {\n",
       "        text-align: right;\n",
       "    }\n",
       "</style>\n",
       "<table border=\"1\" class=\"dataframe\">\n",
       "  <thead>\n",
       "    <tr style=\"text-align: right;\">\n",
       "      <th></th>\n",
       "      <th>Transaction ID</th>\n",
       "      <th>Date of Travel</th>\n",
       "      <th>Company</th>\n",
       "      <th>City</th>\n",
       "      <th>KM Travelled</th>\n",
       "      <th>Price Charged</th>\n",
       "      <th>Cost of Trip</th>\n",
       "      <th>Customer ID</th>\n",
       "      <th>Payment Mode</th>\n",
       "      <th>Gender</th>\n",
       "      <th>Age</th>\n",
       "      <th>Income (USD/Month)</th>\n",
       "      <th>State</th>\n",
       "      <th>year</th>\n",
       "      <th>month</th>\n",
       "      <th>date</th>\n",
       "      <th>day_of_week</th>\n",
       "      <th>Profit</th>\n",
       "      <th>Price per KM</th>\n",
       "    </tr>\n",
       "  </thead>\n",
       "  <tbody>\n",
       "    <tr>\n",
       "      <th>0</th>\n",
       "      <td>10000011</td>\n",
       "      <td>2016-01-08</td>\n",
       "      <td>Pink Cab</td>\n",
       "      <td>ATLANTA</td>\n",
       "      <td>30.45</td>\n",
       "      <td>370.95</td>\n",
       "      <td>313.6350</td>\n",
       "      <td>29290</td>\n",
       "      <td>Card</td>\n",
       "      <td>Male</td>\n",
       "      <td>Young Age</td>\n",
       "      <td>10813</td>\n",
       "      <td>GA</td>\n",
       "      <td>2016</td>\n",
       "      <td>1</td>\n",
       "      <td>8</td>\n",
       "      <td>4</td>\n",
       "      <td>57.3150</td>\n",
       "      <td>12.182266</td>\n",
       "    </tr>\n",
       "    <tr>\n",
       "      <th>1</th>\n",
       "      <td>10351127</td>\n",
       "      <td>2018-07-21</td>\n",
       "      <td>Yellow Cab</td>\n",
       "      <td>ATLANTA</td>\n",
       "      <td>26.19</td>\n",
       "      <td>598.70</td>\n",
       "      <td>317.4228</td>\n",
       "      <td>29290</td>\n",
       "      <td>Cash</td>\n",
       "      <td>Male</td>\n",
       "      <td>Young Age</td>\n",
       "      <td>10813</td>\n",
       "      <td>GA</td>\n",
       "      <td>2018</td>\n",
       "      <td>7</td>\n",
       "      <td>21</td>\n",
       "      <td>5</td>\n",
       "      <td>281.2772</td>\n",
       "      <td>22.859870</td>\n",
       "    </tr>\n",
       "    <tr>\n",
       "      <th>2</th>\n",
       "      <td>10412921</td>\n",
       "      <td>2018-11-23</td>\n",
       "      <td>Yellow Cab</td>\n",
       "      <td>ATLANTA</td>\n",
       "      <td>42.55</td>\n",
       "      <td>792.05</td>\n",
       "      <td>597.4020</td>\n",
       "      <td>29290</td>\n",
       "      <td>Card</td>\n",
       "      <td>Male</td>\n",
       "      <td>Young Age</td>\n",
       "      <td>10813</td>\n",
       "      <td>GA</td>\n",
       "      <td>2018</td>\n",
       "      <td>11</td>\n",
       "      <td>23</td>\n",
       "      <td>4</td>\n",
       "      <td>194.6480</td>\n",
       "      <td>18.614571</td>\n",
       "    </tr>\n",
       "    <tr>\n",
       "      <th>3</th>\n",
       "      <td>10000012</td>\n",
       "      <td>2016-01-06</td>\n",
       "      <td>Pink Cab</td>\n",
       "      <td>ATLANTA</td>\n",
       "      <td>28.62</td>\n",
       "      <td>358.52</td>\n",
       "      <td>334.8540</td>\n",
       "      <td>27703</td>\n",
       "      <td>Card</td>\n",
       "      <td>Male</td>\n",
       "      <td>Young Age</td>\n",
       "      <td>9237</td>\n",
       "      <td>GA</td>\n",
       "      <td>2016</td>\n",
       "      <td>1</td>\n",
       "      <td>6</td>\n",
       "      <td>2</td>\n",
       "      <td>23.6660</td>\n",
       "      <td>12.526904</td>\n",
       "    </tr>\n",
       "    <tr>\n",
       "      <th>4</th>\n",
       "      <td>10320494</td>\n",
       "      <td>2018-04-21</td>\n",
       "      <td>Yellow Cab</td>\n",
       "      <td>ATLANTA</td>\n",
       "      <td>36.38</td>\n",
       "      <td>721.10</td>\n",
       "      <td>467.1192</td>\n",
       "      <td>27703</td>\n",
       "      <td>Card</td>\n",
       "      <td>Male</td>\n",
       "      <td>Young Age</td>\n",
       "      <td>9237</td>\n",
       "      <td>GA</td>\n",
       "      <td>2018</td>\n",
       "      <td>4</td>\n",
       "      <td>21</td>\n",
       "      <td>5</td>\n",
       "      <td>253.9808</td>\n",
       "      <td>19.821330</td>\n",
       "    </tr>\n",
       "  </tbody>\n",
       "</table>\n",
       "</div>"
      ],
      "text/plain": [
       "   Transaction ID Date of Travel     Company     City  KM Travelled  \\\n",
       "0        10000011     2016-01-08    Pink Cab  ATLANTA         30.45   \n",
       "1        10351127     2018-07-21  Yellow Cab  ATLANTA         26.19   \n",
       "2        10412921     2018-11-23  Yellow Cab  ATLANTA         42.55   \n",
       "3        10000012     2016-01-06    Pink Cab  ATLANTA         28.62   \n",
       "4        10320494     2018-04-21  Yellow Cab  ATLANTA         36.38   \n",
       "\n",
       "   Price Charged  Cost of Trip  Customer ID Payment Mode Gender        Age  \\\n",
       "0         370.95      313.6350        29290         Card   Male  Young Age   \n",
       "1         598.70      317.4228        29290         Cash   Male  Young Age   \n",
       "2         792.05      597.4020        29290         Card   Male  Young Age   \n",
       "3         358.52      334.8540        27703         Card   Male  Young Age   \n",
       "4         721.10      467.1192        27703         Card   Male  Young Age   \n",
       "\n",
       "   Income (USD/Month) State  year  month  date  day_of_week    Profit  \\\n",
       "0               10813    GA  2016      1     8            4   57.3150   \n",
       "1               10813    GA  2018      7    21            5  281.2772   \n",
       "2               10813    GA  2018     11    23            4  194.6480   \n",
       "3                9237    GA  2016      1     6            2   23.6660   \n",
       "4                9237    GA  2018      4    21            5  253.9808   \n",
       "\n",
       "   Price per KM  \n",
       "0     12.182266  \n",
       "1     22.859870  \n",
       "2     18.614571  \n",
       "3     12.526904  \n",
       "4     19.821330  "
      ]
     },
     "execution_count": 102,
     "metadata": {},
     "output_type": "execute_result"
    }
   ],
   "source": [
    "df2.head()"
   ]
  },
  {
   "cell_type": "code",
   "execution_count": 104,
   "id": "ef4986ac",
   "metadata": {},
   "outputs": [],
   "source": [
    "def income_to_category(income):\n",
    "    if income <= 10000:\n",
    "        return \"Low\"\n",
    "    elif income <= 25000:\n",
    "        return \"Medium\"\n",
    "    else:\n",
    "        return \"High\"\n",
    "    \n",
    "    \n",
    "df2['Income (USD/Month)']=df2['Income (USD/Month)'].apply(income_to_category)"
   ]
  },
  {
   "cell_type": "code",
   "execution_count": 105,
   "id": "cacc7321",
   "metadata": {},
   "outputs": [
    {
     "data": {
      "text/html": [
       "<div>\n",
       "<style scoped>\n",
       "    .dataframe tbody tr th:only-of-type {\n",
       "        vertical-align: middle;\n",
       "    }\n",
       "\n",
       "    .dataframe tbody tr th {\n",
       "        vertical-align: top;\n",
       "    }\n",
       "\n",
       "    .dataframe thead th {\n",
       "        text-align: right;\n",
       "    }\n",
       "</style>\n",
       "<table border=\"1\" class=\"dataframe\">\n",
       "  <thead>\n",
       "    <tr style=\"text-align: right;\">\n",
       "      <th></th>\n",
       "      <th>Transaction ID</th>\n",
       "      <th>Date of Travel</th>\n",
       "      <th>Company</th>\n",
       "      <th>City</th>\n",
       "      <th>KM Travelled</th>\n",
       "      <th>Price Charged</th>\n",
       "      <th>Cost of Trip</th>\n",
       "      <th>Customer ID</th>\n",
       "      <th>Payment Mode</th>\n",
       "      <th>Gender</th>\n",
       "      <th>Age</th>\n",
       "      <th>Income (USD/Month)</th>\n",
       "      <th>State</th>\n",
       "      <th>year</th>\n",
       "      <th>month</th>\n",
       "      <th>date</th>\n",
       "      <th>day_of_week</th>\n",
       "      <th>Profit</th>\n",
       "      <th>Price per KM</th>\n",
       "    </tr>\n",
       "  </thead>\n",
       "  <tbody>\n",
       "    <tr>\n",
       "      <th>0</th>\n",
       "      <td>10000011</td>\n",
       "      <td>2016-01-08</td>\n",
       "      <td>Pink Cab</td>\n",
       "      <td>ATLANTA</td>\n",
       "      <td>30.45</td>\n",
       "      <td>370.95</td>\n",
       "      <td>313.6350</td>\n",
       "      <td>29290</td>\n",
       "      <td>Card</td>\n",
       "      <td>Male</td>\n",
       "      <td>Young Age</td>\n",
       "      <td>Medium</td>\n",
       "      <td>GA</td>\n",
       "      <td>2016</td>\n",
       "      <td>1</td>\n",
       "      <td>8</td>\n",
       "      <td>4</td>\n",
       "      <td>57.3150</td>\n",
       "      <td>12.182266</td>\n",
       "    </tr>\n",
       "    <tr>\n",
       "      <th>1</th>\n",
       "      <td>10351127</td>\n",
       "      <td>2018-07-21</td>\n",
       "      <td>Yellow Cab</td>\n",
       "      <td>ATLANTA</td>\n",
       "      <td>26.19</td>\n",
       "      <td>598.70</td>\n",
       "      <td>317.4228</td>\n",
       "      <td>29290</td>\n",
       "      <td>Cash</td>\n",
       "      <td>Male</td>\n",
       "      <td>Young Age</td>\n",
       "      <td>Medium</td>\n",
       "      <td>GA</td>\n",
       "      <td>2018</td>\n",
       "      <td>7</td>\n",
       "      <td>21</td>\n",
       "      <td>5</td>\n",
       "      <td>281.2772</td>\n",
       "      <td>22.859870</td>\n",
       "    </tr>\n",
       "    <tr>\n",
       "      <th>2</th>\n",
       "      <td>10412921</td>\n",
       "      <td>2018-11-23</td>\n",
       "      <td>Yellow Cab</td>\n",
       "      <td>ATLANTA</td>\n",
       "      <td>42.55</td>\n",
       "      <td>792.05</td>\n",
       "      <td>597.4020</td>\n",
       "      <td>29290</td>\n",
       "      <td>Card</td>\n",
       "      <td>Male</td>\n",
       "      <td>Young Age</td>\n",
       "      <td>Medium</td>\n",
       "      <td>GA</td>\n",
       "      <td>2018</td>\n",
       "      <td>11</td>\n",
       "      <td>23</td>\n",
       "      <td>4</td>\n",
       "      <td>194.6480</td>\n",
       "      <td>18.614571</td>\n",
       "    </tr>\n",
       "    <tr>\n",
       "      <th>3</th>\n",
       "      <td>10000012</td>\n",
       "      <td>2016-01-06</td>\n",
       "      <td>Pink Cab</td>\n",
       "      <td>ATLANTA</td>\n",
       "      <td>28.62</td>\n",
       "      <td>358.52</td>\n",
       "      <td>334.8540</td>\n",
       "      <td>27703</td>\n",
       "      <td>Card</td>\n",
       "      <td>Male</td>\n",
       "      <td>Young Age</td>\n",
       "      <td>Low</td>\n",
       "      <td>GA</td>\n",
       "      <td>2016</td>\n",
       "      <td>1</td>\n",
       "      <td>6</td>\n",
       "      <td>2</td>\n",
       "      <td>23.6660</td>\n",
       "      <td>12.526904</td>\n",
       "    </tr>\n",
       "    <tr>\n",
       "      <th>4</th>\n",
       "      <td>10320494</td>\n",
       "      <td>2018-04-21</td>\n",
       "      <td>Yellow Cab</td>\n",
       "      <td>ATLANTA</td>\n",
       "      <td>36.38</td>\n",
       "      <td>721.10</td>\n",
       "      <td>467.1192</td>\n",
       "      <td>27703</td>\n",
       "      <td>Card</td>\n",
       "      <td>Male</td>\n",
       "      <td>Young Age</td>\n",
       "      <td>Low</td>\n",
       "      <td>GA</td>\n",
       "      <td>2018</td>\n",
       "      <td>4</td>\n",
       "      <td>21</td>\n",
       "      <td>5</td>\n",
       "      <td>253.9808</td>\n",
       "      <td>19.821330</td>\n",
       "    </tr>\n",
       "  </tbody>\n",
       "</table>\n",
       "</div>"
      ],
      "text/plain": [
       "   Transaction ID Date of Travel     Company     City  KM Travelled  \\\n",
       "0        10000011     2016-01-08    Pink Cab  ATLANTA         30.45   \n",
       "1        10351127     2018-07-21  Yellow Cab  ATLANTA         26.19   \n",
       "2        10412921     2018-11-23  Yellow Cab  ATLANTA         42.55   \n",
       "3        10000012     2016-01-06    Pink Cab  ATLANTA         28.62   \n",
       "4        10320494     2018-04-21  Yellow Cab  ATLANTA         36.38   \n",
       "\n",
       "   Price Charged  Cost of Trip  Customer ID Payment Mode Gender        Age  \\\n",
       "0         370.95      313.6350        29290         Card   Male  Young Age   \n",
       "1         598.70      317.4228        29290         Cash   Male  Young Age   \n",
       "2         792.05      597.4020        29290         Card   Male  Young Age   \n",
       "3         358.52      334.8540        27703         Card   Male  Young Age   \n",
       "4         721.10      467.1192        27703         Card   Male  Young Age   \n",
       "\n",
       "  Income (USD/Month) State  year  month  date  day_of_week    Profit  \\\n",
       "0             Medium    GA  2016      1     8            4   57.3150   \n",
       "1             Medium    GA  2018      7    21            5  281.2772   \n",
       "2             Medium    GA  2018     11    23            4  194.6480   \n",
       "3                Low    GA  2016      1     6            2   23.6660   \n",
       "4                Low    GA  2018      4    21            5  253.9808   \n",
       "\n",
       "   Price per KM  \n",
       "0     12.182266  \n",
       "1     22.859870  \n",
       "2     18.614571  \n",
       "3     12.526904  \n",
       "4     19.821330  "
      ]
     },
     "execution_count": 105,
     "metadata": {},
     "output_type": "execute_result"
    }
   ],
   "source": [
    "df2.head()"
   ]
  },
  {
   "cell_type": "code",
   "execution_count": 108,
   "id": "7cf9eea8",
   "metadata": {},
   "outputs": [
    {
     "name": "stdout",
     "output_type": "stream",
     "text": [
      "<class 'pandas.core.frame.DataFrame'>\n",
      "Int64Index: 359392 entries, 0 to 359391\n",
      "Data columns (total 19 columns):\n",
      " #   Column              Non-Null Count   Dtype         \n",
      "---  ------              --------------   -----         \n",
      " 0   Transaction ID      359392 non-null  int64         \n",
      " 1   Date of Travel      359392 non-null  datetime64[ns]\n",
      " 2   Company             359392 non-null  object        \n",
      " 3   City                359392 non-null  object        \n",
      " 4   KM Travelled        359392 non-null  float64       \n",
      " 5   Price Charged       359392 non-null  float64       \n",
      " 6   Cost of Trip        359392 non-null  float64       \n",
      " 7   Customer ID         359392 non-null  int64         \n",
      " 8   Payment Mode        359392 non-null  object        \n",
      " 9   Gender              359392 non-null  object        \n",
      " 10  Age                 359392 non-null  object        \n",
      " 11  Income (USD/Month)  359392 non-null  object        \n",
      " 12  State               359392 non-null  object        \n",
      " 13  year                359392 non-null  int64         \n",
      " 14  month               359392 non-null  int64         \n",
      " 15  date                359392 non-null  int64         \n",
      " 16  day_of_week         359392 non-null  int64         \n",
      " 17  Profit              359392 non-null  float64       \n",
      " 18  Price per KM        359392 non-null  float64       \n",
      "dtypes: datetime64[ns](1), float64(5), int64(6), object(7)\n",
      "memory usage: 54.8+ MB\n"
     ]
    }
   ],
   "source": [
    "df2.info()"
   ]
  },
  {
   "cell_type": "code",
   "execution_count": 106,
   "id": "bfe3f3eb",
   "metadata": {},
   "outputs": [
    {
     "data": {
      "text/html": [
       "<div>\n",
       "<style scoped>\n",
       "    .dataframe tbody tr th:only-of-type {\n",
       "        vertical-align: middle;\n",
       "    }\n",
       "\n",
       "    .dataframe tbody tr th {\n",
       "        vertical-align: top;\n",
       "    }\n",
       "\n",
       "    .dataframe thead th {\n",
       "        text-align: right;\n",
       "    }\n",
       "</style>\n",
       "<table border=\"1\" class=\"dataframe\">\n",
       "  <thead>\n",
       "    <tr style=\"text-align: right;\">\n",
       "      <th></th>\n",
       "      <th>count</th>\n",
       "      <th>mean</th>\n",
       "      <th>std</th>\n",
       "      <th>min</th>\n",
       "      <th>25%</th>\n",
       "      <th>50%</th>\n",
       "      <th>75%</th>\n",
       "      <th>max</th>\n",
       "    </tr>\n",
       "  </thead>\n",
       "  <tbody>\n",
       "    <tr>\n",
       "      <th>Transaction ID</th>\n",
       "      <td>359392.0</td>\n",
       "      <td>1.022076e+07</td>\n",
       "      <td>126805.803715</td>\n",
       "      <td>1.000001e+07</td>\n",
       "      <td>1.011081e+07</td>\n",
       "      <td>1.022104e+07</td>\n",
       "      <td>1.033094e+07</td>\n",
       "      <td>1.044011e+07</td>\n",
       "    </tr>\n",
       "    <tr>\n",
       "      <th>KM Travelled</th>\n",
       "      <td>359392.0</td>\n",
       "      <td>2.256725e+01</td>\n",
       "      <td>12.233526</td>\n",
       "      <td>1.900000e+00</td>\n",
       "      <td>1.200000e+01</td>\n",
       "      <td>2.244000e+01</td>\n",
       "      <td>3.296000e+01</td>\n",
       "      <td>4.800000e+01</td>\n",
       "    </tr>\n",
       "    <tr>\n",
       "      <th>Price Charged</th>\n",
       "      <td>359392.0</td>\n",
       "      <td>4.234433e+02</td>\n",
       "      <td>274.378911</td>\n",
       "      <td>1.560000e+01</td>\n",
       "      <td>2.064375e+02</td>\n",
       "      <td>3.863600e+02</td>\n",
       "      <td>5.836600e+02</td>\n",
       "      <td>2.048030e+03</td>\n",
       "    </tr>\n",
       "    <tr>\n",
       "      <th>Cost of Trip</th>\n",
       "      <td>359392.0</td>\n",
       "      <td>2.861901e+02</td>\n",
       "      <td>157.993661</td>\n",
       "      <td>1.900000e+01</td>\n",
       "      <td>1.512000e+02</td>\n",
       "      <td>2.824800e+02</td>\n",
       "      <td>4.136832e+02</td>\n",
       "      <td>6.912000e+02</td>\n",
       "    </tr>\n",
       "    <tr>\n",
       "      <th>Customer ID</th>\n",
       "      <td>359392.0</td>\n",
       "      <td>1.919165e+04</td>\n",
       "      <td>21012.412463</td>\n",
       "      <td>1.000000e+00</td>\n",
       "      <td>2.705000e+03</td>\n",
       "      <td>7.459000e+03</td>\n",
       "      <td>3.607800e+04</td>\n",
       "      <td>6.000000e+04</td>\n",
       "    </tr>\n",
       "    <tr>\n",
       "      <th>year</th>\n",
       "      <td>359392.0</td>\n",
       "      <td>2.017045e+03</td>\n",
       "      <td>0.800239</td>\n",
       "      <td>2.016000e+03</td>\n",
       "      <td>2.016000e+03</td>\n",
       "      <td>2.017000e+03</td>\n",
       "      <td>2.018000e+03</td>\n",
       "      <td>2.018000e+03</td>\n",
       "    </tr>\n",
       "    <tr>\n",
       "      <th>month</th>\n",
       "      <td>359392.0</td>\n",
       "      <td>7.500434e+00</td>\n",
       "      <td>3.445095</td>\n",
       "      <td>1.000000e+00</td>\n",
       "      <td>5.000000e+00</td>\n",
       "      <td>8.000000e+00</td>\n",
       "      <td>1.000000e+01</td>\n",
       "      <td>1.200000e+01</td>\n",
       "    </tr>\n",
       "    <tr>\n",
       "      <th>date</th>\n",
       "      <td>359392.0</td>\n",
       "      <td>1.562845e+01</td>\n",
       "      <td>8.827151</td>\n",
       "      <td>1.000000e+00</td>\n",
       "      <td>8.000000e+00</td>\n",
       "      <td>1.600000e+01</td>\n",
       "      <td>2.300000e+01</td>\n",
       "      <td>3.100000e+01</td>\n",
       "    </tr>\n",
       "    <tr>\n",
       "      <th>day_of_week</th>\n",
       "      <td>359392.0</td>\n",
       "      <td>3.750620e+00</td>\n",
       "      <td>1.858849</td>\n",
       "      <td>0.000000e+00</td>\n",
       "      <td>3.000000e+00</td>\n",
       "      <td>4.000000e+00</td>\n",
       "      <td>5.000000e+00</td>\n",
       "      <td>6.000000e+00</td>\n",
       "    </tr>\n",
       "    <tr>\n",
       "      <th>Profit</th>\n",
       "      <td>359392.0</td>\n",
       "      <td>1.372532e+02</td>\n",
       "      <td>160.311840</td>\n",
       "      <td>-2.200600e+02</td>\n",
       "      <td>2.801200e+01</td>\n",
       "      <td>8.196200e+01</td>\n",
       "      <td>1.900300e+02</td>\n",
       "      <td>1.463966e+03</td>\n",
       "    </tr>\n",
       "    <tr>\n",
       "      <th>Price per KM</th>\n",
       "      <td>359392.0</td>\n",
       "      <td>1.876513e+01</td>\n",
       "      <td>5.878560</td>\n",
       "      <td>6.338621e+00</td>\n",
       "      <td>1.445133e+01</td>\n",
       "      <td>1.715350e+01</td>\n",
       "      <td>2.223493e+01</td>\n",
       "      <td>5.395556e+01</td>\n",
       "    </tr>\n",
       "  </tbody>\n",
       "</table>\n",
       "</div>"
      ],
      "text/plain": [
       "                   count          mean            std           min  \\\n",
       "Transaction ID  359392.0  1.022076e+07  126805.803715  1.000001e+07   \n",
       "KM Travelled    359392.0  2.256725e+01      12.233526  1.900000e+00   \n",
       "Price Charged   359392.0  4.234433e+02     274.378911  1.560000e+01   \n",
       "Cost of Trip    359392.0  2.861901e+02     157.993661  1.900000e+01   \n",
       "Customer ID     359392.0  1.919165e+04   21012.412463  1.000000e+00   \n",
       "year            359392.0  2.017045e+03       0.800239  2.016000e+03   \n",
       "month           359392.0  7.500434e+00       3.445095  1.000000e+00   \n",
       "date            359392.0  1.562845e+01       8.827151  1.000000e+00   \n",
       "day_of_week     359392.0  3.750620e+00       1.858849  0.000000e+00   \n",
       "Profit          359392.0  1.372532e+02     160.311840 -2.200600e+02   \n",
       "Price per KM    359392.0  1.876513e+01       5.878560  6.338621e+00   \n",
       "\n",
       "                         25%           50%           75%           max  \n",
       "Transaction ID  1.011081e+07  1.022104e+07  1.033094e+07  1.044011e+07  \n",
       "KM Travelled    1.200000e+01  2.244000e+01  3.296000e+01  4.800000e+01  \n",
       "Price Charged   2.064375e+02  3.863600e+02  5.836600e+02  2.048030e+03  \n",
       "Cost of Trip    1.512000e+02  2.824800e+02  4.136832e+02  6.912000e+02  \n",
       "Customer ID     2.705000e+03  7.459000e+03  3.607800e+04  6.000000e+04  \n",
       "year            2.016000e+03  2.017000e+03  2.018000e+03  2.018000e+03  \n",
       "month           5.000000e+00  8.000000e+00  1.000000e+01  1.200000e+01  \n",
       "date            8.000000e+00  1.600000e+01  2.300000e+01  3.100000e+01  \n",
       "day_of_week     3.000000e+00  4.000000e+00  5.000000e+00  6.000000e+00  \n",
       "Profit          2.801200e+01  8.196200e+01  1.900300e+02  1.463966e+03  \n",
       "Price per KM    1.445133e+01  1.715350e+01  2.223493e+01  5.395556e+01  "
      ]
     },
     "execution_count": 106,
     "metadata": {},
     "output_type": "execute_result"
    }
   ],
   "source": [
    "df2.describe().T"
   ]
  },
  {
   "cell_type": "code",
   "execution_count": 107,
   "id": "65e25ca6",
   "metadata": {},
   "outputs": [],
   "source": [
    "#Checking for outliers in numeric data"
   ]
  },
  {
   "cell_type": "code",
   "execution_count": 160,
   "id": "359bd2f2",
   "metadata": {},
   "outputs": [
    {
     "name": "stderr",
     "output_type": "stream",
     "text": [
      "C:\\Users\\Dakshith\\AppData\\Local\\Packages\\PythonSoftwareFoundation.Python.3.10_qbz5n2kfra8p0\\LocalCache\\local-packages\\Python310\\site-packages\\seaborn\\_decorators.py:36: FutureWarning: Pass the following variable as a keyword arg: x. From version 0.12, the only valid positional argument will be `data`, and passing other arguments without an explicit keyword will result in an error or misinterpretation.\n",
      "  warnings.warn(\n"
     ]
    },
    {
     "data": {
      "text/plain": [
       "<AxesSubplot:xlabel='KM Travelled'>"
      ]
     },
     "execution_count": 160,
     "metadata": {},
     "output_type": "execute_result"
    },
    {
     "data": {
      "image/png": "[encoded data removed]",
      "text/plain": [
       "<Figure size 432x288 with 1 Axes>"
      ]
     },
     "metadata": {
      "needs_background": "light"
     },
     "output_type": "display_data"
    }
   ],
   "source": [
    "sns.boxplot(df2['KM Travelled'])"
   ]
  },
  {
   "cell_type": "code",
   "execution_count": 112,
   "id": "5466aa76",
   "metadata": {},
   "outputs": [
    {
     "data": {
      "text/plain": [
       "<AxesSubplot:title={'center':'KM Travelled'}, xlabel='Company'>"
      ]
     },
     "execution_count": 112,
     "metadata": {},
     "output_type": "execute_result"
    },
    {
     "data": {
      "image/png": "[encoded data removed]",
      "text/plain": [
       "<Figure size 432x288 with 1 Axes>"
      ]
     },
     "metadata": {
      "needs_background": "light"
     },
     "output_type": "display_data"
    }
   ],
   "source": [
    "df2.boxplot(column=['KM Travelled'], by='Company')"
   ]
  },
  {
   "cell_type": "code",
   "execution_count": 161,
   "id": "b6c5c6ce",
   "metadata": {},
   "outputs": [
    {
     "name": "stderr",
     "output_type": "stream",
     "text": [
      "C:\\Users\\Dakshith\\AppData\\Local\\Packages\\PythonSoftwareFoundation.Python.3.10_qbz5n2kfra8p0\\LocalCache\\local-packages\\Python310\\site-packages\\seaborn\\_decorators.py:36: FutureWarning: Pass the following variable as a keyword arg: x. From version 0.12, the only valid positional argument will be `data`, and passing other arguments without an explicit keyword will result in an error or misinterpretation.\n",
      "  warnings.warn(\n"
     ]
    },
    {
     "data": {
      "text/plain": [
       "<AxesSubplot:xlabel='Cost of Trip'>"
      ]
     },
     "execution_count": 161,
     "metadata": {},
     "output_type": "execute_result"
    },
    {
     "data": {
      "image/png": "[encoded data removed]",
      "text/plain": [
       "<Figure size 432x288 with 1 Axes>"
      ]
     },
     "metadata": {
      "needs_background": "light"
     },
     "output_type": "display_data"
    }
   ],
   "source": [
    "sns.boxplot(df2['Cost of Trip'])"
   ]
  },
  {
   "cell_type": "code",
   "execution_count": 110,
   "id": "4ddebc1e",
   "metadata": {},
   "outputs": [
    {
     "data": {
      "text/plain": [
       "<AxesSubplot:title={'center':'Cost of Trip'}, xlabel='Company'>"
      ]
     },
     "execution_count": 110,
     "metadata": {},
     "output_type": "execute_result"
    },
    {
     "data": {
      "image/png": "[encoded data removed]",
      "text/plain": [
       "<Figure size 432x288 with 1 Axes>"
      ]
     },
     "metadata": {
      "needs_background": "light"
     },
     "output_type": "display_data"
    }
   ],
   "source": [
    "df2.boxplot(column=['Cost of Trip'], by='Company')"
   ]
  },
  {
   "cell_type": "code",
   "execution_count": null,
   "id": "36c8690b",
   "metadata": {},
   "outputs": [],
   "source": [
    "sns.boxplot(df2['Price Charged'])"
   ]
  },
  {
   "cell_type": "code",
   "execution_count": 111,
   "id": "49fc7d99",
   "metadata": {},
   "outputs": [
    {
     "data": {
      "text/plain": [
       "<AxesSubplot:title={'center':'Price Charged'}, xlabel='Company'>"
      ]
     },
     "execution_count": 111,
     "metadata": {},
     "output_type": "execute_result"
    },
    {
     "data": {
      "image/png": "[encoded data removed]",
      "text/plain": [
       "<Figure size 432x288 with 1 Axes>"
      ]
     },
     "metadata": {
      "needs_background": "light"
     },
     "output_type": "display_data"
    }
   ],
   "source": [
    "df2.boxplot(column=['Price Charged'], by='Company')"
   ]
  },
  {
   "cell_type": "code",
   "execution_count": 113,
   "id": "fa6c3efe",
   "metadata": {},
   "outputs": [
    {
     "data": {
      "text/plain": [
       "<AxesSubplot:title={'center':'Profit'}, xlabel='Company'>"
      ]
     },
     "execution_count": 113,
     "metadata": {},
     "output_type": "execute_result"
    },
    {
     "data": {
      "image/png": "[encoded data removed]",
      "text/plain": [
       "<Figure size 432x288 with 1 Axes>"
      ]
     },
     "metadata": {
      "needs_background": "light"
     },
     "output_type": "display_data"
    }
   ],
   "source": [
    "df2.boxplot(column=['Profit'], by='Company')"
   ]
  },
  {
   "cell_type": "code",
   "execution_count": 115,
   "id": "a5b501c1",
   "metadata": {},
   "outputs": [
    {
     "data": {
      "text/plain": [
       "<AxesSubplot:title={'center':'Price per KM'}, xlabel='Company'>"
      ]
     },
     "execution_count": 115,
     "metadata": {},
     "output_type": "execute_result"
    },
    {
     "data": {
      "image/png": "[encoded data removed]",
      "text/plain": [
       "<Figure size 432x288 with 1 Axes>"
      ]
     },
     "metadata": {
      "needs_background": "light"
     },
     "output_type": "display_data"
    }
   ],
   "source": [
    "df2.boxplot(column=['Price per KM'], by='Company')"
   ]
  },
  {
   "cell_type": "code",
   "execution_count": 142,
   "id": "99257d37",
   "metadata": {},
   "outputs": [],
   "source": [
    "#we will  treat outliers of Price Charged by finding out the outliers and replacing their values with upper cap value i.e 90 percentile values"
   ]
  },
  {
   "cell_type": "code",
   "execution_count": 143,
   "id": "d91e33d9",
   "metadata": {},
   "outputs": [],
   "source": [
    "outliers = []\n",
    "data = [] \n",
    "def detect_outliers_iqr(data):\n",
    "    data = sorted(data)\n",
    "    #print(data)\n",
    "    q1 = np.percentile(data,25)\n",
    "    q3 = np.percentile(data,75)\n",
    "    print(q1,q3)\n",
    "    IQR = q3 - q1\n",
    "    lwr_bound = q1-(1.5*IQR)\n",
    "    upr_bound = q3+(1.5*IQR)\n",
    "    print(lwr_bound,upr_bound)\n",
    "    for i in data:\n",
    "        if (i<lwr_bound or i>upr_bound):\n",
    "            outliers.append(i)\n",
    "    return outliers\n",
    "\n"
   ]
  },
  {
   "cell_type": "code",
   "execution_count": 144,
   "id": "356df0d9",
   "metadata": {},
   "outputs": [
    {
     "name": "stdout",
     "output_type": "stream",
     "text": [
      "206.4375 583.66\n",
      "-359.39625 1149.49375\n"
     ]
    }
   ],
   "source": [
    "Price_charged_list = df2[\"Price Charged\"].tolist()\n",
    "Price_charged_outliers = detect_outliers_iqr(Price_charged_list)\n"
   ]
  },
  {
   "cell_type": "code",
   "execution_count": 145,
   "id": "c1160d05",
   "metadata": {},
   "outputs": [
    {
     "data": {
      "text/plain": [
       "5958"
      ]
     },
     "execution_count": 145,
     "metadata": {},
     "output_type": "execute_result"
    }
   ],
   "source": [
    "len(Price_charged_outliers)"
   ]
  },
  {
   "cell_type": "code",
   "execution_count": 146,
   "id": "d0f45775",
   "metadata": {},
   "outputs": [],
   "source": [
    "median=np.median(Price_charged_list)"
   ]
  },
  {
   "cell_type": "code",
   "execution_count": 147,
   "id": "6d53a76c",
   "metadata": {},
   "outputs": [
    {
     "data": {
      "text/plain": [
       "386.36"
      ]
     },
     "execution_count": 147,
     "metadata": {},
     "output_type": "execute_result"
    }
   ],
   "source": [
    "median"
   ]
  },
  {
   "cell_type": "code",
   "execution_count": 148,
   "id": "24371588",
   "metadata": {},
   "outputs": [
    {
     "name": "stdout",
     "output_type": "stream",
     "text": [
      "792.79\n"
     ]
    }
   ],
   "source": [
    "ninetieth_percentile=np.percentile(Price_charged_list,90)\n",
    "print(ninetieth_percentile)\n",
    "\n",
    "b=np.where(Price_charged_list>ninetieth_percentile,ninetieth_percentile,Price_charged_list)\n",
    "#print(Price_charged_list)"
   ]
  },
  {
   "cell_type": "code",
   "execution_count": 149,
   "id": "fc38f7b0",
   "metadata": {},
   "outputs": [],
   "source": [
    "Price_charged_list=b"
   ]
  },
  {
   "cell_type": "code",
   "execution_count": 150,
   "id": "8a5dcf18",
   "metadata": {},
   "outputs": [],
   "source": [
    "temp_df=pd.DataFrame(Price_charged_list,columns = ['Price Charged'])"
   ]
  },
  {
   "cell_type": "code",
   "execution_count": 151,
   "id": "6a4a7497",
   "metadata": {},
   "outputs": [
    {
     "data": {
      "text/plain": [
       "(359392, 1)"
      ]
     },
     "execution_count": 151,
     "metadata": {},
     "output_type": "execute_result"
    }
   ],
   "source": [
    "temp_df.shape"
   ]
  },
  {
   "cell_type": "code",
   "execution_count": 152,
   "id": "898fc7f3",
   "metadata": {},
   "outputs": [
    {
     "data": {
      "text/plain": [
       "(359392, 19)"
      ]
     },
     "execution_count": 152,
     "metadata": {},
     "output_type": "execute_result"
    }
   ],
   "source": [
    "df2.shape"
   ]
  },
  {
   "cell_type": "code",
   "execution_count": 154,
   "id": "ef03414f",
   "metadata": {},
   "outputs": [],
   "source": [
    "df2['Price Charged']=temp_df['Price Charged']"
   ]
  },
  {
   "cell_type": "code",
   "execution_count": 155,
   "id": "842c467b",
   "metadata": {},
   "outputs": [
    {
     "name": "stderr",
     "output_type": "stream",
     "text": [
      "C:\\Users\\Dakshith\\AppData\\Local\\Packages\\PythonSoftwareFoundation.Python.3.10_qbz5n2kfra8p0\\LocalCache\\local-packages\\Python310\\site-packages\\seaborn\\_decorators.py:36: FutureWarning: Pass the following variable as a keyword arg: x. From version 0.12, the only valid positional argument will be `data`, and passing other arguments without an explicit keyword will result in an error or misinterpretation.\n",
      "  warnings.warn(\n"
     ]
    },
    {
     "data": {
      "text/plain": [
       "<AxesSubplot:xlabel='Price Charged'>"
      ]
     },
     "execution_count": 155,
     "metadata": {},
     "output_type": "execute_result"
    },
    {
     "data": {
      "image/png": "[encoded data removed]",
      "text/plain": [
       "<Figure size 432x288 with 1 Axes>"
      ]
     },
     "metadata": {
      "needs_background": "light"
     },
     "output_type": "display_data"
    }
   ],
   "source": [
    "sns.boxplot(df2['Price Charged'])"
   ]
  },
  {
   "cell_type": "code",
   "execution_count": 156,
   "id": "e1c115bf",
   "metadata": {},
   "outputs": [],
   "source": [
    "# There are no outliers after outlier treatment of Price Charged"
   ]
  },
  {
   "cell_type": "code",
   "execution_count": 157,
   "id": "c42e4241",
   "metadata": {},
   "outputs": [],
   "source": [
    "#Now we will recalculate Profit and Price per KM "
   ]
  },
  {
   "cell_type": "code",
   "execution_count": 158,
   "id": "326c6b02",
   "metadata": {},
   "outputs": [],
   "source": [
    "df2['Profit']=df2['Price Charged']-df2['Cost of Trip']"
   ]
  },
  {
   "cell_type": "code",
   "execution_count": 159,
   "id": "84064741",
   "metadata": {},
   "outputs": [],
   "source": [
    "df2['Price per KM']=df2['Price Charged']/df2['KM Travelled']"
   ]
  },
  {
   "cell_type": "code",
   "execution_count": 163,
   "id": "33107f7e",
   "metadata": {},
   "outputs": [
    {
     "data": {
      "text/plain": [
       "<AxesSubplot:title={'center':'Price Charged'}, xlabel='Company'>"
      ]
     },
     "execution_count": 163,
     "metadata": {},
     "output_type": "execute_result"
    },
    {
     "data": {
      "image/png": "[encoded data removed]",
      "text/plain": [
       "<Figure size 432x288 with 1 Axes>"
      ]
     },
     "metadata": {
      "needs_background": "light"
     },
     "output_type": "display_data"
    }
   ],
   "source": [
    "df2.boxplot(column=['Price Charged'], by='Company')"
   ]
  },
  {
   "cell_type": "code",
   "execution_count": 164,
   "id": "c4f7edd3",
   "metadata": {},
   "outputs": [
    {
     "data": {
      "text/plain": [
       "<AxesSubplot:title={'center':'Profit'}, xlabel='Company'>"
      ]
     },
     "execution_count": 164,
     "metadata": {},
     "output_type": "execute_result"
    },
    {
     "data": {
      "image/png": "[encoded data removed]",
      "text/plain": [
       "<Figure size 432x288 with 1 Axes>"
      ]
     },
     "metadata": {
      "needs_background": "light"
     },
     "output_type": "display_data"
    }
   ],
   "source": [
    "df2.boxplot(column=['Profit'], by='Company')"
   ]
  },
  {
   "cell_type": "code",
   "execution_count": 166,
   "id": "aa931b88",
   "metadata": {},
   "outputs": [
    {
     "data": {
      "text/plain": [
       "<AxesSubplot:title={'center':'Price per KM'}, xlabel='Company'>"
      ]
     },
     "execution_count": 166,
     "metadata": {},
     "output_type": "execute_result"
    },
    {
     "data": {
      "image/png": "[encoded data removed]",
      "text/plain": [
       "<Figure size 432x288 with 1 Axes>"
      ]
     },
     "metadata": {
      "needs_background": "light"
     },
     "output_type": "display_data"
    }
   ],
   "source": [
    "df2.boxplot(column=['Price per KM'], by='Company')"
   ]
  },
  {
   "cell_type": "code",
   "execution_count": 167,
   "id": "13ece64d",
   "metadata": {},
   "outputs": [],
   "source": [
    "#By looking at above plots it shows that Profit and Price per KM still have outliers after treating the Price Charged outliers on which\n",
    "#they are dependent.So i assume that these outliers are due to overly Charged price for some users for luxury cars and services.so i leave them as such\n",
    "# and continue my analysis further"
   ]
  },
  {
   "cell_type": "code",
   "execution_count": 168,
   "id": "35deca16",
   "metadata": {},
   "outputs": [],
   "source": [
    "# Now we will check the counts of Categorical Data one by one"
   ]
  },
  {
   "cell_type": "code",
   "execution_count": 170,
   "id": "94e1b17a",
   "metadata": {},
   "outputs": [
    {
     "data": {
      "image/png": "[encoded data removed]",
      "text/plain": [
       "<Figure size 576x432 with 1 Axes>"
      ]
     },
     "metadata": {
      "needs_background": "light"
     },
     "output_type": "display_data"
    }
   ],
   "source": [
    "ax = df2.groupby('Company')['Transaction ID'].count().plot(kind='bar',\n",
    "                                    figsize=(8,6),\n",
    "                                    title=\"Number of Transactions done by each company\")"
   ]
  },
  {
   "cell_type": "code",
   "execution_count": 178,
   "id": "eebce7cd",
   "metadata": {},
   "outputs": [
    {
     "data": {
      "image/png": "[encoded data removed]",
      "text/plain": [
       "<Figure size 576x432 with 1 Axes>"
      ]
     },
     "metadata": {
      "needs_background": "light"
     },
     "output_type": "display_data"
    }
   ],
   "source": [
    "ax=df2.groupby(['Company','Gender'])['Gender'].count().unstack(0).plot(kind='bar',\n",
    "                                    figsize=(8,6),\n",
    "                                    title=\"Count of Male and Femele Users by company\")"
   ]
  },
  {
   "cell_type": "code",
   "execution_count": 179,
   "id": "3298cf4f",
   "metadata": {},
   "outputs": [
    {
     "data": {
      "image/png": "[encoded data removed]",
      "text/plain": [
       "<Figure size 576x432 with 1 Axes>"
      ]
     },
     "metadata": {
      "needs_background": "light"
     },
     "output_type": "display_data"
    }
   ],
   "source": [
    "ax=df2.groupby(['Company','Payment Mode'])['Payment Mode'].count().unstack(0).plot(kind='bar',\n",
    "                                    figsize=(8,6),\n",
    "                                    title=\"Count of Card and Cash Users by company\")"
   ]
  },
  {
   "cell_type": "code",
   "execution_count": 180,
   "id": "53931182",
   "metadata": {},
   "outputs": [
    {
     "data": {
      "image/png": "[encoded data removed]",
      "text/plain": [
       "<Figure size 576x432 with 1 Axes>"
      ]
     },
     "metadata": {
      "needs_background": "light"
     },
     "output_type": "display_data"
    }
   ],
   "source": [
    "ax=df2.groupby(['Company','Age'])['Age'].count().unstack(0).plot(kind='bar',\n",
    "                                    figsize=(8,6),\n",
    "                                    title=\"Count of different Age group Users by company\")"
   ]
  },
  {
   "cell_type": "code",
   "execution_count": 182,
   "id": "62cb74bb",
   "metadata": {},
   "outputs": [
    {
     "data": {
      "image/png": "[encoded data removed]",
      "text/plain": [
       "<Figure size 576x432 with 1 Axes>"
      ]
     },
     "metadata": {
      "needs_background": "light"
     },
     "output_type": "display_data"
    }
   ],
   "source": [
    "ax=df2.groupby(['Company','Income (USD/Month)'])['Income (USD/Month)'].count().unstack(0).plot(kind='bar',\n",
    "                                    figsize=(8,6),\n",
    "                                    title=\"Count of different Income Users by company\")"
   ]
  },
  {
   "cell_type": "code",
   "execution_count": 183,
   "id": "15c68b7e",
   "metadata": {},
   "outputs": [
    {
     "data": {
      "image/png": "[encoded data removed]",
      "text/plain": [
       "<Figure size 576x432 with 1 Axes>"
      ]
     },
     "metadata": {
      "needs_background": "light"
     },
     "output_type": "display_data"
    }
   ],
   "source": [
    "ax=df2.groupby(['Company','year'])['year'].count().unstack(0).plot(kind='bar',\n",
    "                                    figsize=(8,6),\n",
    "                                    title=\"Count of yearly Users by company\")"
   ]
  },
  {
   "cell_type": "code",
   "execution_count": null,
   "id": "bedaf2f8",
   "metadata": {},
   "outputs": [],
   "source": [
    "# By looking at all above plots we can say there is same Proportionality in both the companies in all the catagories of users."
   ]
  },
  {
   "cell_type": "code",
   "execution_count": 221,
   "id": "cf0d098d",
   "metadata": {},
   "outputs": [
    {
     "data": {
      "image/png": "[encoded data removed]",
      "text/plain": [
       "<Figure size 576x432 with 1 Axes>"
      ]
     },
     "metadata": {},
     "output_type": "display_data"
    }
   ],
   "source": [
    "ax=df2.groupby(['Company','month'])['month'].count().unstack(0).plot(kind='bar',\n",
    "                                    figsize=(8,6),\n",
    "                                    title=\"Count of monthly Users by company\")"
   ]
  },
  {
   "cell_type": "code",
   "execution_count": 222,
   "id": "44a33a77",
   "metadata": {},
   "outputs": [],
   "source": [
    "#by above plot we can say that there is a sesonality in number of cab users in both the companies indicating more usage of cabs in end of the year due to christmas and new year holidays and celebration and low usage in the begining of the year due to winter season."
   ]
  },
  {
   "cell_type": "code",
   "execution_count": 196,
   "id": "e4596e79",
   "metadata": {},
   "outputs": [
    {
     "data": {
      "image/png": "[encoded data removed]",
      "text/plain": [
       "<Figure size 576x432 with 1 Axes>"
      ]
     },
     "metadata": {
      "needs_background": "light"
     },
     "output_type": "display_data"
    }
   ],
   "source": [
    "ax=df2.groupby('Company')['Cost of Trip'].mean().plot(kind='bar',\n",
    "                                    figsize=(8,6),\n",
    "                                    title=\"Average Cost of the Trip of a user by each Company\")"
   ]
  },
  {
   "cell_type": "code",
   "execution_count": 197,
   "id": "b523bfe1",
   "metadata": {},
   "outputs": [
    {
     "data": {
      "image/png": "[encoded data removed]",
      "text/plain": [
       "<Figure size 576x432 with 1 Axes>"
      ]
     },
     "metadata": {
      "needs_background": "light"
     },
     "output_type": "display_data"
    }
   ],
   "source": [
    "ax=df2.groupby('Company')['Price Charged'].mean().plot(kind='bar',\n",
    "                                    figsize=(8,6),\n",
    "                                    title=\"Average Price Charged for each trip by each Company\")"
   ]
  },
  {
   "cell_type": "code",
   "execution_count": 198,
   "id": "0e9f1b37",
   "metadata": {},
   "outputs": [
    {
     "data": {
      "image/png": "[encoded data removed]",
      "text/plain": [
       "<Figure size 576x432 with 1 Axes>"
      ]
     },
     "metadata": {
      "needs_background": "light"
     },
     "output_type": "display_data"
    }
   ],
   "source": [
    "ax=df2.groupby('Company')['KM Travelled'].mean().plot(kind='bar',\n",
    "                                    figsize=(8,6),\n",
    "                                    title=\"Average KM Travelled by each user by each Company\")"
   ]
  },
  {
   "cell_type": "code",
   "execution_count": 199,
   "id": "3c4d9f0f",
   "metadata": {},
   "outputs": [],
   "source": [
    "#From Above graphs we can say there is an average Profit margin of 100 dollars from each user in yellow cab company and 50 dollars in Pink cab company"
   ]
  },
  {
   "cell_type": "code",
   "execution_count": 211,
   "id": "8a741c06",
   "metadata": {},
   "outputs": [
    {
     "data": {
      "image/png": "[encoded data removed]",
      "text/plain": [
       "<Figure size 576x432 with 1 Axes>"
      ]
     },
     "metadata": {
      "needs_background": "light"
     },
     "output_type": "display_data"
    }
   ],
   "source": [
    "ax=df2.groupby(['Company','year'])['Cost of Trip'].sum().unstack(0).plot.bar(\n",
    "                                    figsize=(8,6),\n",
    "                                    title=\"Total Cost of Trip yearly by each Company\")"
   ]
  },
  {
   "cell_type": "code",
   "execution_count": 212,
   "id": "5a23d802",
   "metadata": {},
   "outputs": [
    {
     "data": {
      "image/png": "[encoded data removed]",
      "text/plain": [
       "<Figure size 576x432 with 1 Axes>"
      ]
     },
     "metadata": {
      "needs_background": "light"
     },
     "output_type": "display_data"
    }
   ],
   "source": [
    "sax=df2.groupby(['Company','year'])['Price Charged'].sum().unstack(0).plot.bar(\n",
    "                                    figsize=(8,6),\n",
    "                                    title=\"Total Price Charged yearly by each Company\")"
   ]
  },
  {
   "cell_type": "code",
   "execution_count": 205,
   "id": "c4935d66",
   "metadata": {},
   "outputs": [
    {
     "data": {
      "image/png": "[encoded data removed]",
      "text/plain": [
       "<Figure size 576x432 with 1 Axes>"
      ]
     },
     "metadata": {
      "needs_background": "light"
     },
     "output_type": "display_data"
    }
   ],
   "source": [
    "ax=df2.groupby(['Company','year'])['Profit'].sum().unstack(0).plot.bar(\n",
    "                                    figsize=(8,6),\n",
    "                                    title=\"Total profit yearly by each Company\")"
   ]
  },
  {
   "cell_type": "code",
   "execution_count": 206,
   "id": "36f2377a",
   "metadata": {},
   "outputs": [
    {
     "data": {
      "image/png": "[encoded data removed]",
      "text/plain": [
       "<Figure size 576x432 with 1 Axes>"
      ]
     },
     "metadata": {
      "needs_background": "light"
     },
     "output_type": "display_data"
    }
   ],
   "source": [
    "ax=df2.groupby('Company')['Profit'].sum().plot(kind='bar',\n",
    "                                    figsize=(8,6),\n",
    "                                    title=\"Total Profit by each Company\")"
   ]
  },
  {
   "cell_type": "code",
   "execution_count": 204,
   "id": "292c4834",
   "metadata": {},
   "outputs": [],
   "source": [
    "#The Total profit and yearly Profit of Yellowcab Company is more than Pink Cab Company"
   ]
  },
  {
   "cell_type": "code",
   "execution_count": 213,
   "id": "cb112cbf",
   "metadata": {},
   "outputs": [],
   "source": [
    "#Next we will analyse Users in each city and there population"
   ]
  },
  {
   "cell_type": "code",
   "execution_count": 214,
   "id": "1879c33c",
   "metadata": {},
   "outputs": [
    {
     "data": {
      "text/plain": [
       "[Text(0, 0, 'NEW YORK'),\n",
       " Text(1, 0, 'CHICAGO'),\n",
       " Text(2, 0, 'LOS ANGELES'),\n",
       " Text(3, 0, 'MIAMI'),\n",
       " Text(4, 0, 'SILICON VALLEY'),\n",
       " Text(5, 0, 'ORANGE COUNTY'),\n",
       " Text(6, 0, 'SAN DIEGO'),\n",
       " Text(7, 0, 'PHOENIX'),\n",
       " Text(8, 0, 'DALLAS'),\n",
       " Text(9, 0, 'ATLANTA'),\n",
       " Text(10, 0, 'DENVER'),\n",
       " Text(11, 0, 'AUSTIN'),\n",
       " Text(12, 0, 'SEATTLE'),\n",
       " Text(13, 0, 'TUCSON'),\n",
       " Text(14, 0, 'SAN FRANCISCO'),\n",
       " Text(15, 0, 'SACRAMENTO'),\n",
       " Text(16, 0, 'PITTSBURGH'),\n",
       " Text(17, 0, 'WASHINGTON'),\n",
       " Text(18, 0, 'NASHVILLE'),\n",
       " Text(19, 0, 'BOSTON')]"
      ]
     },
     "execution_count": 214,
     "metadata": {},
     "output_type": "execute_result"
    },
    {
     "data": {
      "image/png": "[encoded data removed]",
      "text/plain": [
       "<Figure size 1080x576 with 1 Axes>"
      ]
     },
     "metadata": {},
     "output_type": "display_data"
    }
   ],
   "source": [
    "sns.set(rc = {'figure.figsize':(15,8)})\n",
    "#sns.barplot(x=\"City\",y=\"Users\",data=city_df)\n",
    "ax=sns.barplot(x=city_df['City'],y=city_df['Users'])\n",
    "ax.set_xticklabels(city_df['City'],rotation=90)"
   ]
  },
  {
   "cell_type": "code",
   "execution_count": 215,
   "id": "ff043c06",
   "metadata": {},
   "outputs": [
    {
     "data": {
      "text/plain": [
       "[Text(0, 0, 'NEW YORK'),\n",
       " Text(1, 0, 'CHICAGO'),\n",
       " Text(2, 0, 'LOS ANGELES'),\n",
       " Text(3, 0, 'MIAMI'),\n",
       " Text(4, 0, 'SILICON VALLEY'),\n",
       " Text(5, 0, 'ORANGE COUNTY'),\n",
       " Text(6, 0, 'SAN DIEGO'),\n",
       " Text(7, 0, 'PHOENIX'),\n",
       " Text(8, 0, 'DALLAS'),\n",
       " Text(9, 0, 'ATLANTA'),\n",
       " Text(10, 0, 'DENVER'),\n",
       " Text(11, 0, 'AUSTIN'),\n",
       " Text(12, 0, 'SEATTLE'),\n",
       " Text(13, 0, 'TUCSON'),\n",
       " Text(14, 0, 'SAN FRANCISCO'),\n",
       " Text(15, 0, 'SACRAMENTO'),\n",
       " Text(16, 0, 'PITTSBURGH'),\n",
       " Text(17, 0, 'WASHINGTON'),\n",
       " Text(18, 0, 'NASHVILLE'),\n",
       " Text(19, 0, 'BOSTON')]"
      ]
     },
     "execution_count": 215,
     "metadata": {},
     "output_type": "execute_result"
    },
    {
     "data": {
      "image/png": "[encoded data removed]",
      "text/plain": [
       "<Figure size 1080x576 with 1 Axes>"
      ]
     },
     "metadata": {},
     "output_type": "display_data"
    }
   ],
   "source": [
    "sns.set(rc = {'figure.figsize':(15,8)})\n",
    "ax=sns.barplot(x=city_df['City'],y=city_df['Population'])\n",
    "ax.set_xticklabels(city_df['City'],rotation=90)"
   ]
  },
  {
   "cell_type": "code",
   "execution_count": 216,
   "id": "fefd0a99",
   "metadata": {},
   "outputs": [],
   "source": [
    "# From the above graphs we can see Newyork,Washington,Sanfransisco,chicago and Losangels are having more cab users and population wise also Newyork,Chocago and Losangels are in the top.\n",
    "#Lets Analyse the Users by company among the cities"
   ]
  },
  {
   "cell_type": "code",
   "execution_count": 220,
   "id": "78cae3ba",
   "metadata": {},
   "outputs": [
    {
     "data": {
      "image/png": "[encoded data removed]",
      "text/plain": [
       "<Figure size 864x720 with 1 Axes>"
      ]
     },
     "metadata": {},
     "output_type": "display_data"
    }
   ],
   "source": [
    "ax=df2.groupby(['Company','City'])['Transaction ID'].sum().unstack(0).plot.bar(\n",
    "                                    figsize=(12,10),\n",
    "                                    title=\"Number of users/Transactions by each City by Company\")"
   ]
  },
  {
   "cell_type": "code",
   "execution_count": null,
   "id": "8795a8e0",
   "metadata": {},
   "outputs": [],
   "source": [
    "#By above plot we can say that Yellow cab company is doing good bussiness in top cities which has more cab users and has more Population like Newyork,Chicago,Loasangels and washington than Pink Cab company."
   ]
  }
 ],
 "metadata": {
  "kernelspec": {
   "display_name": "Python 3 (ipykernel)",
   "language": "python",
   "name": "python3"
  },
  "language_info": {
   "codemirror_mode": {
    "name": "ipython",
    "version": 3
   },
   "file_extension": ".py",
   "mimetype": "text/x-python",
   "name": "python",
   "nbconvert_exporter": "python",
   "pygments_lexer": "ipython3",
   "version": "3.10.4"
  }
 },
 "nbformat": 4,
 "nbformat_minor": 5
}
